{
 "cells": [
  {
   "cell_type": "code",
   "execution_count": 436,
   "id": "9c60f880",
   "metadata": {},
   "outputs": [],
   "source": [
    "import re\n",
    "import pandas as pd"
   ]
  },
  {
   "cell_type": "markdown",
   "id": "af29a5e0",
   "metadata": {},
   "source": [
    "Write a function named is_vowel. It should accept a string as input and use a regular expression to determine if the passed string is a vowel. While not explicity mentioned in the lesson, you can treat the result of re.search as a boolean value that indicates whether or not the regular expression matches the given string."
   ]
  },
  {
   "cell_type": "code",
   "execution_count": 6,
   "id": "d00ec195",
   "metadata": {},
   "outputs": [],
   "source": [
    "def is_vowel(the_string): \n",
    "    regexp = r'[aeiou]'\n",
    "    return bool(re.findall(regexp, the_string))\n",
    "    \n",
    "\n"
   ]
  },
  {
   "cell_type": "code",
   "execution_count": 9,
   "id": "c6b810e7",
   "metadata": {},
   "outputs": [
    {
     "data": {
      "text/plain": [
       "False"
      ]
     },
     "execution_count": 9,
     "metadata": {},
     "output_type": "execute_result"
    }
   ],
   "source": [
    "is_vowel('l')"
   ]
  },
  {
   "cell_type": "code",
   "execution_count": 11,
   "id": "8b13e6ba",
   "metadata": {},
   "outputs": [
    {
     "data": {
      "text/plain": [
       "True"
      ]
     },
     "execution_count": 11,
     "metadata": {},
     "output_type": "execute_result"
    }
   ],
   "source": [
    "is_vowel('a')"
   ]
  },
  {
   "cell_type": "markdown",
   "id": "9da5086d",
   "metadata": {},
   "source": [
    "Write a function named is_valid_username that accepts a string as input. A valid username starts with a lowercase letter, and only consists of lowercase letters, numbers, or the _ character. It should also be no longer than 32 characters. The function should return either True or False depending on whether the passed string is a valid username."
   ]
  },
  {
   "cell_type": "code",
   "execution_count": 36,
   "id": "ede54839",
   "metadata": {},
   "outputs": [],
   "source": [
    "def is_valid_username(string):\n",
    "    regexp = r'^[a-z][a-z_]*[a-z]$'\n",
    "    return bool(re.findall(regexp, string))"
   ]
  },
  {
   "cell_type": "code",
   "execution_count": 43,
   "id": "89104bf9",
   "metadata": {},
   "outputs": [
    {
     "data": {
      "text/plain": [
       "False"
      ]
     },
     "execution_count": 43,
     "metadata": {},
     "output_type": "execute_result"
    }
   ],
   "source": [
    "is_valid_username('helLo')"
   ]
  },
  {
   "cell_type": "markdown",
   "id": "1f031e10",
   "metadata": {},
   "source": [
    "Write a regular expression to capture phone numbers. It should match all of the following:"
   ]
  },
  {
   "cell_type": "code",
   "execution_count": 114,
   "id": "21c801d9",
   "metadata": {},
   "outputs": [],
   "source": [
    "the_str_1 = '(210) 867 5309'\n",
    "the_str_2 = '+1 210.867.5309'\n",
    "the_str_3 = '867-5309'\n",
    "the_str_4 = '210-867-5309'"
   ]
  },
  {
   "cell_type": "code",
   "execution_count": 260,
   "id": "f84ad2e6",
   "metadata": {},
   "outputs": [],
   "source": [
    "def num_func(the_str):\n",
    "    regexp = r'^[+]?\\d?[(]?[\\s]?\\d?\\d?\\d?[\\s)/.-][\\s]?\\d?\\d?\\d?[\\s)/.-]?\\d\\d\\d\\d'\n",
    "    return re.findall(regexp, the_str)"
   ]
  },
  {
   "cell_type": "code",
   "execution_count": 270,
   "id": "298ad4d1",
   "metadata": {},
   "outputs": [
    {
     "data": {
      "text/plain": [
       "['210-867-5309']"
      ]
     },
     "execution_count": 270,
     "metadata": {},
     "output_type": "execute_result"
    }
   ],
   "source": [
    "num_func(the_str_4)"
   ]
  },
  {
   "cell_type": "markdown",
   "id": "4d906da4",
   "metadata": {},
   "source": [
    "Use regular expressions to convert the dates below to the standardized year-month-day format."
   ]
  },
  {
   "cell_type": "code",
   "execution_count": 645,
   "id": "72827207",
   "metadata": {},
   "outputs": [],
   "source": [
    "str_1 = '02/04/19'\n",
    "str_2 = '02/05/19'\n",
    "str_3 = '02/06/19'\n",
    "str_4 = '02/07/19'\n",
    "str_5 = '02/08/19'\n",
    "str_6 = '02/09/19'\n",
    "str_7 = '02/10/19'\n",
    "\n",
    "the_list = [str_1,str_2,str_3,str_4,str_5,str_6,str_7]"
   ]
  },
  {
   "cell_type": "code",
   "execution_count": 640,
   "id": "a29ddd7a",
   "metadata": {},
   "outputs": [],
   "source": [
    "def year_month_day(the_str):\n",
    "    regexp = r'\\d?\\d?'\n",
    "    answer = re.findall(regexp, the_str)\n",
    "    print('20' + answer[4] + '/' + answer[0] + '/' + answer[2])"
   ]
  },
  {
   "cell_type": "code",
   "execution_count": 646,
   "id": "943cf633",
   "metadata": {},
   "outputs": [
    {
     "name": "stdout",
     "output_type": "stream",
     "text": [
      "2019/02/04\n",
      "2019/02/05\n",
      "2019/02/06\n",
      "2019/02/07\n",
      "2019/02/08\n",
      "2019/02/09\n",
      "2019/02/10\n"
     ]
    }
   ],
   "source": [
    "for i in the_list:\n",
    "    year_month_day(i)"
   ]
  },
  {
   "cell_type": "code",
   "execution_count": 643,
   "id": "8a96994d",
   "metadata": {
    "scrolled": true
   },
   "outputs": [
    {
     "name": "stdout",
     "output_type": "stream",
     "text": [
      "2019/02/06\n"
     ]
    }
   ],
   "source": [
    "year_month_day(str_3)"
   ]
  },
  {
   "cell_type": "code",
   "execution_count": 651,
   "id": "8997f63f",
   "metadata": {},
   "outputs": [],
   "source": [
    "str_1 = '''GET /api/v1/sales?page=86 [16/Apr/2019:193452+0000] HTTP/1.1 {200} 510348 \"python-requests/2.21.0\" 97.105.19.58'''\n",
    "str_2 = '''POST /users_accounts/file-upload [16/Apr/2019:193452+0000] HTTP/1.1 {201} 42 \"User-Agent: Mozilla/5.0 (X11; Fedora; Fedora; Linux x86_64) AppleWebKit/537.36 (KHTML, like Gecko) Chrome/73.0.3683.86 Safari/537.36\" 97.105.19.58'''\n",
    "str_3 = '''GET /api/v1/items?page=3 [16/Apr/2019:193453+0000] HTTP/1.1 {429} 3561 \"python-requests/2.21.0\" 97.105.19.58'''\n",
    "list_of_requests = [str_1, str_2, str_3]"
   ]
  },
  {
   "cell_type": "markdown",
   "id": "000ad299",
   "metadata": {},
   "source": [
    "Write a regex to extract the various parts of these logfile lines:"
   ]
  },
  {
   "cell_type": "code",
   "execution_count": 550,
   "id": "55804c3e",
   "metadata": {},
   "outputs": [],
   "source": [
    "def different_parts(the_str):\n",
    "    the_df = pd.DataFrame()\n",
    "    regexp = r'([A-Z]{3,4}\\s)'\n",
    "    answer = pd.DataFrame(re.findall(regexp, the_str))\n",
    "    the_df = pd.concat([the_df, answer], axis= 1)\n",
    "    \n",
    "    regexp = r'(\\s[//].+?\\s)'\n",
    "    answer = pd.DataFrame(re.findall(regexp, the_str))\n",
    "    the_df = pd.concat([the_df, answer], axis= 1)\n",
    "    \n",
    "    regexp = r'([[].+?[]])'\n",
    "    answer = pd.DataFrame(re.findall(regexp, the_str))\n",
    "    the_df = pd.concat([the_df, answer], axis= 1)\n",
    "    \n",
    "    regexp = r'(HTT.+?\\s)'\n",
    "    answer = pd.DataFrame(re.findall(regexp, the_str))\n",
    "    the_df = pd.concat([the_df, answer], axis= 1)\n",
    "    \n",
    "    regexp = r'([{].+?[}])'\n",
    "    answer = pd.DataFrame(re.findall(regexp, the_str))\n",
    "    the_df = pd.concat([the_df, answer], axis= 1)\n",
    "    \n",
    "    regexp = r'([\\s][\\d]\\w+?\\s)'\n",
    "    answer = pd.DataFrame(re.findall(regexp, the_str))\n",
    "    the_df = pd.concat([the_df, answer], axis= 1)\n",
    "    \n",
    "    regexp = r'([\"].+?[\"])'\n",
    "    answer = pd.DataFrame(re.findall(regexp, the_str))\n",
    "    the_df = pd.concat([the_df, answer], axis= 1)\n",
    "    \n",
    "    regexp = r'([\\s]\\d\\d[\\.].+\\b)'\n",
    "    answer = pd.DataFrame(re.findall(regexp, the_str))\n",
    "    the_df = pd.concat([the_df, answer], axis= 1)\n",
    "    \n",
    "\n",
    "\n",
    "    return the_df"
   ]
  },
  {
   "cell_type": "code",
   "execution_count": 554,
   "id": "9afff866",
   "metadata": {},
   "outputs": [
    {
     "data": {
      "text/plain": [
       "'([\"].+?[\"])([\\\\s]\\\\d\\\\d[\\\\.].+\\\\b)'"
      ]
     },
     "execution_count": 554,
     "metadata": {},
     "output_type": "execute_result"
    }
   ],
   "source": [
    "r'([\"].+?[\"])([\\s]\\d\\d[\\.].+\\b)'"
   ]
  },
  {
   "cell_type": "code",
   "execution_count": 551,
   "id": "fab6302d",
   "metadata": {
    "scrolled": false
   },
   "outputs": [
    {
     "data": {
      "text/html": [
       "<div>\n",
       "<style scoped>\n",
       "    .dataframe tbody tr th:only-of-type {\n",
       "        vertical-align: middle;\n",
       "    }\n",
       "\n",
       "    .dataframe tbody tr th {\n",
       "        vertical-align: top;\n",
       "    }\n",
       "\n",
       "    .dataframe thead th {\n",
       "        text-align: right;\n",
       "    }\n",
       "</style>\n",
       "<table border=\"1\" class=\"dataframe\">\n",
       "  <thead>\n",
       "    <tr style=\"text-align: right;\">\n",
       "      <th></th>\n",
       "      <th>0</th>\n",
       "      <th>0</th>\n",
       "      <th>0</th>\n",
       "      <th>0</th>\n",
       "      <th>0</th>\n",
       "      <th>0</th>\n",
       "      <th>0</th>\n",
       "      <th>0</th>\n",
       "    </tr>\n",
       "  </thead>\n",
       "  <tbody>\n",
       "    <tr>\n",
       "      <th>0</th>\n",
       "      <td>POST</td>\n",
       "      <td>/users_accounts/file-upload</td>\n",
       "      <td>[16/Apr/2019:193452+0000]</td>\n",
       "      <td>HTTP/1.1</td>\n",
       "      <td>{201}</td>\n",
       "      <td>42</td>\n",
       "      <td>\"User-Agent: Mozilla/5.0 (X11; Fedora; Fedora;...</td>\n",
       "      <td>97.105.19.58</td>\n",
       "    </tr>\n",
       "  </tbody>\n",
       "</table>\n",
       "</div>"
      ],
      "text/plain": [
       "       0                              0                          0          0  \\\n",
       "0  POST    /users_accounts/file-upload   [16/Apr/2019:193452+0000]  HTTP/1.1    \n",
       "\n",
       "       0     0                                                  0  \\\n",
       "0  {201}   42   \"User-Agent: Mozilla/5.0 (X11; Fedora; Fedora;...   \n",
       "\n",
       "               0  \n",
       "0   97.105.19.58  "
      ]
     },
     "execution_count": 551,
     "metadata": {},
     "output_type": "execute_result"
    }
   ],
   "source": [
    "different_parts(str_2)"
   ]
  },
  {
   "cell_type": "code",
   "execution_count": 592,
   "id": "de85105b",
   "metadata": {},
   "outputs": [],
   "source": [
    "def one_liner(the_str):\n",
    "    \n",
    "    master_reg_ex = r'([A-Z]{3,4}\\s)([//].+?\\s)([[].+?[]])[\\s](HTT.+?\\s)([{].+?[}])([\\s][\\d]\\w+?\\s)([\"].+?[\"])([\\s]\\d\\d[\\.].+\\b)'\n",
    "    return re.findall(master_reg_ex, the_str)"
   ]
  },
  {
   "cell_type": "code",
   "execution_count": 593,
   "id": "f02073e7",
   "metadata": {},
   "outputs": [
    {
     "name": "stderr",
     "output_type": "stream",
     "text": [
      "/var/folders/9q/9mllqnsn2vq07btq58zw9zzc0000gn/T/ipykernel_34441/2232104776.py:12: FutureWarning: Possible nested set at position 27\n",
      "  return re.findall(master_reg_ex, the_str)\n"
     ]
    },
    {
     "data": {
      "text/plain": [
       "[('GET ',\n",
       "  '/api/v1/sales?page=86 ',\n",
       "  '[16/Apr/2019:193452+0000]',\n",
       "  'HTTP/1.1 ',\n",
       "  '{200}',\n",
       "  ' 510348 ',\n",
       "  '\"python-requests/2.21.0\"',\n",
       "  ' 97.105.19.58')]"
      ]
     },
     "execution_count": 593,
     "metadata": {},
     "output_type": "execute_result"
    }
   ],
   "source": [
    "one_liner(str_1)"
   ]
  },
  {
   "cell_type": "code",
   "execution_count": 658,
   "id": "1ee10fff",
   "metadata": {},
   "outputs": [
    {
     "data": {
      "text/html": [
       "<div>\n",
       "<style scoped>\n",
       "    .dataframe tbody tr th:only-of-type {\n",
       "        vertical-align: middle;\n",
       "    }\n",
       "\n",
       "    .dataframe tbody tr th {\n",
       "        vertical-align: top;\n",
       "    }\n",
       "\n",
       "    .dataframe thead th {\n",
       "        text-align: right;\n",
       "    }\n",
       "</style>\n",
       "<table border=\"1\" class=\"dataframe\">\n",
       "  <thead>\n",
       "    <tr style=\"text-align: right;\">\n",
       "      <th></th>\n",
       "      <th>0</th>\n",
       "      <th>1</th>\n",
       "      <th>2</th>\n",
       "      <th>3</th>\n",
       "      <th>4</th>\n",
       "      <th>5</th>\n",
       "      <th>6</th>\n",
       "      <th>7</th>\n",
       "    </tr>\n",
       "  </thead>\n",
       "  <tbody>\n",
       "    <tr>\n",
       "      <th>0</th>\n",
       "      <td>GET</td>\n",
       "      <td>/api/v1/sales?page=86</td>\n",
       "      <td>[16/Apr/2019:193452+0000]</td>\n",
       "      <td>HTTP/1.1</td>\n",
       "      <td>{200}</td>\n",
       "      <td>510348</td>\n",
       "      <td>\"python-requests/2.21.0\"</td>\n",
       "      <td>97.105.19.58</td>\n",
       "    </tr>\n",
       "    <tr>\n",
       "      <th>0</th>\n",
       "      <td>POST</td>\n",
       "      <td>/users_accounts/file-upload</td>\n",
       "      <td>[16/Apr/2019:193452+0000]</td>\n",
       "      <td>HTTP/1.1</td>\n",
       "      <td>{201}</td>\n",
       "      <td>42</td>\n",
       "      <td>\"User-Agent: Mozilla/5.0 (X11; Fedora; Fedora;...</td>\n",
       "      <td>97.105.19.58</td>\n",
       "    </tr>\n",
       "    <tr>\n",
       "      <th>0</th>\n",
       "      <td>GET</td>\n",
       "      <td>/api/v1/items?page=3</td>\n",
       "      <td>[16/Apr/2019:193453+0000]</td>\n",
       "      <td>HTTP/1.1</td>\n",
       "      <td>{429}</td>\n",
       "      <td>3561</td>\n",
       "      <td>\"python-requests/2.21.0\"</td>\n",
       "      <td>97.105.19.58</td>\n",
       "    </tr>\n",
       "  </tbody>\n",
       "</table>\n",
       "</div>"
      ],
      "text/plain": [
       "       0                             1                          2          3  \\\n",
       "0   GET         /api/v1/sales?page=86   [16/Apr/2019:193452+0000]  HTTP/1.1    \n",
       "0  POST   /users_accounts/file-upload   [16/Apr/2019:193452+0000]  HTTP/1.1    \n",
       "0   GET          /api/v1/items?page=3   [16/Apr/2019:193453+0000]  HTTP/1.1    \n",
       "\n",
       "       4         5                                                  6  \\\n",
       "0  {200}   510348                            \"python-requests/2.21.0\"   \n",
       "0  {201}       42   \"User-Agent: Mozilla/5.0 (X11; Fedora; Fedora;...   \n",
       "0  {429}     3561                            \"python-requests/2.21.0\"   \n",
       "\n",
       "               7  \n",
       "0   97.105.19.58  \n",
       "0   97.105.19.58  \n",
       "0   97.105.19.58  "
      ]
     },
     "execution_count": 658,
     "metadata": {},
     "output_type": "execute_result"
    }
   ],
   "source": [
    "the_df = pd.DataFrame()\n",
    "for i in list_of_requests:\n",
    "    the_list = one_liner(i)\n",
    "    the_df = pd.concat([the_df, pd.DataFrame(the_list)])\n",
    "\n",
    "the_df"
   ]
  },
  {
   "cell_type": "code",
   "execution_count": 599,
   "id": "81643d21",
   "metadata": {},
   "outputs": [
    {
     "name": "stdout",
     "output_type": "stream",
     "text": [
      "235976\n"
     ]
    }
   ],
   "source": [
    "with open('/usr/share/dict/words', 'r') as f:\n",
    "    data = f.readlines()\n",
    "    print(len(data))"
   ]
  },
  {
   "cell_type": "markdown",
   "id": "5a5bd869",
   "metadata": {},
   "source": [
    "How many words have at least 3 vowels in a row?"
   ]
  },
  {
   "cell_type": "code",
   "execution_count": 635,
   "id": "5c1c5c48",
   "metadata": {
    "scrolled": true
   },
   "outputs": [],
   "source": [
    "with open('/usr/share/dict/words', 'r') as f:\n",
    "    data = f.readlines()\n",
    "    regexp = r'[aeiouAEIOU]{3,}?'\n",
    "    count = 0\n",
    "    for i in data:\n",
    "        if len(re.findall(regexp, i)) == 1:\n",
    "            count +=1\n",
    "            "
   ]
  },
  {
   "cell_type": "code",
   "execution_count": 636,
   "id": "8ff6b65f",
   "metadata": {
    "scrolled": true
   },
   "outputs": [
    {
     "data": {
      "text/plain": [
       "6114"
      ]
     },
     "execution_count": 636,
     "metadata": {},
     "output_type": "execute_result"
    }
   ],
   "source": [
    "count"
   ]
  },
  {
   "cell_type": "markdown",
   "id": "1a5a3cd0",
   "metadata": {},
   "source": [
    "How many words have at least 3 vowels?"
   ]
  },
  {
   "cell_type": "code",
   "execution_count": 631,
   "id": "54865c07",
   "metadata": {
    "scrolled": false
   },
   "outputs": [],
   "source": [
    "with open('/usr/share/dict/words', 'r') as f:\n",
    "    data = f.readlines()\n",
    "    regexp = r'([aeiouAEIOU].+?){3,}?'\n",
    "    count = 0\n",
    "    for i in data:\n",
    "        if len(re.findall(regexp, i)) == 1:\n",
    "            count +=1\n",
    "            "
   ]
  },
  {
   "cell_type": "code",
   "execution_count": 632,
   "id": "901e202a",
   "metadata": {
    "scrolled": true
   },
   "outputs": [
    {
     "data": {
      "text/plain": [
       "150177"
      ]
     },
     "execution_count": 632,
     "metadata": {},
     "output_type": "execute_result"
    }
   ],
   "source": [
    "count"
   ]
  },
  {
   "cell_type": "markdown",
   "id": "0875001f",
   "metadata": {},
   "source": [
    "How many words have at least 4 consonants in a row?"
   ]
  },
  {
   "cell_type": "code",
   "execution_count": 633,
   "id": "1d18efbf",
   "metadata": {},
   "outputs": [],
   "source": [
    "with open('/usr/share/dict/words', 'r') as f:\n",
    "    data = f.readlines()\n",
    "    regexp = r'([^aeiouAEIOU].+?){3,}?'\n",
    "    count = 0\n",
    "    for i in data:\n",
    "        if len(re.findall(regexp, i)) == 1:\n",
    "            count +=1"
   ]
  },
  {
   "cell_type": "code",
   "execution_count": 634,
   "id": "3163441f",
   "metadata": {},
   "outputs": [
    {
     "data": {
      "text/plain": [
       "171603"
      ]
     },
     "execution_count": 634,
     "metadata": {},
     "output_type": "execute_result"
    }
   ],
   "source": [
    "count"
   ]
  },
  {
   "cell_type": "markdown",
   "id": "0249517c",
   "metadata": {},
   "source": [
    "How many words start and end with the same letter?"
   ]
  },
  {
   "cell_type": "code",
   "execution_count": 638,
   "id": "e028188f",
   "metadata": {},
   "outputs": [],
   "source": [
    "with open('/usr/share/dict/words', 'r') as f:\n",
    "    data = f.readlines()\n",
    "    regexp = r''\n",
    "    count = 0\n",
    "    for i in data\n",
    "    \n",
    "        re.findall(regexp, i)"
   ]
  }
 ],
 "metadata": {
  "kernelspec": {
   "display_name": "Python 3 (ipykernel)",
   "language": "python",
   "name": "python3"
  },
  "language_info": {
   "codemirror_mode": {
    "name": "ipython",
    "version": 3
   },
   "file_extension": ".py",
   "mimetype": "text/x-python",
   "name": "python",
   "nbconvert_exporter": "python",
   "pygments_lexer": "ipython3",
   "version": "3.9.16"
  }
 },
 "nbformat": 4,
 "nbformat_minor": 5
}
