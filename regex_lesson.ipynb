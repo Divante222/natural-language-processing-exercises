{
 "cells": [
  {
   "cell_type": "markdown",
   "id": "f8b16018",
   "metadata": {},
   "source": [
    "# Regex"
   ]
  },
  {
   "cell_type": "markdown",
   "id": "f6e4c245",
   "metadata": {},
   "source": [
    "What is it?\n",
    "- Regular expressions (called regexes or regex patterns) are a tiny language for dealing with text and character patterns\n",
    "\n",
    "Why do we care? \n",
    "- With this, we can extract text, match text, or replace text that matches a pattern"
   ]
  },
  {
   "cell_type": "code",
   "execution_count": 10,
   "id": "e68ebbdf",
   "metadata": {},
   "outputs": [],
   "source": [
    "import pandas as pd\n",
    "import numpy as np\n",
    "\n",
    "import re"
   ]
  },
  {
   "cell_type": "markdown",
   "id": "02791cd3",
   "metadata": {},
   "source": [
    "## re library function"
   ]
  },
  {
   "cell_type": "markdown",
   "id": "1b813d39",
   "metadata": {},
   "source": [
    "`re.findall(pattern, string)` "
   ]
  },
  {
   "cell_type": "markdown",
   "id": "cf2c139a",
   "metadata": {},
   "source": [
    " - finds all substrings where the REGEX matches; returns a list"
   ]
  },
  {
   "cell_type": "markdown",
   "id": "0287470e",
   "metadata": {},
   "source": [
    "### Literals - start simple"
   ]
  },
  {
   "cell_type": "code",
   "execution_count": 11,
   "id": "e3031a37",
   "metadata": {},
   "outputs": [],
   "source": [
    "subject = 'abc'"
   ]
  },
  {
   "cell_type": "markdown",
   "id": "e8428404",
   "metadata": {},
   "source": [
    "#### find the letter a"
   ]
  },
  {
   "cell_type": "code",
   "execution_count": 12,
   "id": "69f919b6",
   "metadata": {},
   "outputs": [
    {
     "data": {
      "text/plain": [
       "['a']"
      ]
     },
     "execution_count": 12,
     "metadata": {},
     "output_type": "execute_result"
    }
   ],
   "source": [
    "re.findall(r'a', subject)"
   ]
  },
  {
   "cell_type": "markdown",
   "id": "9a16b4a4",
   "metadata": {},
   "source": [
    "#### find the letter d"
   ]
  },
  {
   "cell_type": "code",
   "execution_count": 13,
   "id": "e4da4fd7",
   "metadata": {},
   "outputs": [
    {
     "data": {
      "text/plain": [
       "['a']"
      ]
     },
     "execution_count": 13,
     "metadata": {},
     "output_type": "execute_result"
    }
   ],
   "source": [
    "regexp = r'a'\n",
    "\n",
    "re.findall(regexp, subject)"
   ]
  },
  {
   "cell_type": "markdown",
   "id": "558bb786",
   "metadata": {},
   "source": [
    "### Literals - make it more complex"
   ]
  },
  {
   "cell_type": "code",
   "execution_count": 14,
   "id": "2841f530",
   "metadata": {},
   "outputs": [],
   "source": [
    "subject = 'Mary had a little lamb. 1 little lamb. Not 10 lambs, not 12, not 22, just one'"
   ]
  },
  {
   "cell_type": "markdown",
   "id": "1d18bc87",
   "metadata": {},
   "source": [
    "#### find not"
   ]
  },
  {
   "cell_type": "code",
   "execution_count": 15,
   "id": "fdfd3442",
   "metadata": {},
   "outputs": [
    {
     "data": {
      "text/plain": [
       "['not', 'not']"
      ]
     },
     "execution_count": 15,
     "metadata": {},
     "output_type": "execute_result"
    }
   ],
   "source": [
    "regexp = r'not'\n",
    "\n",
    "re.findall(regexp, subject)"
   ]
  },
  {
   "cell_type": "code",
   "execution_count": 16,
   "id": "d533dd54",
   "metadata": {},
   "outputs": [
    {
     "data": {
      "text/plain": [
       "['Not']"
      ]
     },
     "execution_count": 16,
     "metadata": {},
     "output_type": "execute_result"
    }
   ],
   "source": [
    "regexp = r'Not'\n",
    "\n",
    "re.findall(regexp, subject)"
   ]
  },
  {
   "cell_type": "markdown",
   "id": "27ce68a0",
   "metadata": {},
   "source": [
    "##### regex flag: re.IGNORECASE"
   ]
  },
  {
   "cell_type": "code",
   "execution_count": 17,
   "id": "168af730",
   "metadata": {},
   "outputs": [
    {
     "data": {
      "text/plain": [
       "['Not', 'not', 'not']"
      ]
     },
     "execution_count": 17,
     "metadata": {},
     "output_type": "execute_result"
    }
   ],
   "source": [
    "regexp = r'not'\n",
    "\n",
    "re.findall(regexp, subject, re.IGNORECASE)"
   ]
  },
  {
   "cell_type": "markdown",
   "id": "e652153a",
   "metadata": {},
   "source": [
    "#### find lamb"
   ]
  },
  {
   "cell_type": "code",
   "execution_count": 18,
   "id": "b1a5c817",
   "metadata": {},
   "outputs": [
    {
     "data": {
      "text/plain": [
       "['lamb', 'lamb', 'lamb']"
      ]
     },
     "execution_count": 18,
     "metadata": {},
     "output_type": "execute_result"
    }
   ],
   "source": [
    "regexp = r'lamb'\n",
    "\n",
    "re.findall(regexp, subject)"
   ]
  },
  {
   "cell_type": "markdown",
   "id": "0ec9f0e8",
   "metadata": {},
   "source": [
    "## Metacharacters\n",
    "<div class=\"alert alert-block alert-info\">\n",
    "    \n",
    "- `\\w`: any letter or number\n",
    "- `\\W`: anything that is *not* a letter or number\n",
    "\n",
    "\n",
    "\n",
    "- `\\d`: any digit\n",
    "- `\\D`: anything that is *not* a digit\n",
    "\n",
    "\n",
    "- `\\s` : any whitespace\n",
    "\n",
    "\n",
    "-  `.` : anything\n",
    "    \n",
    "</div>"
   ]
  },
  {
   "cell_type": "markdown",
   "id": "f4a793d2",
   "metadata": {},
   "source": [
    "### Try them all "
   ]
  },
  {
   "cell_type": "code",
   "execution_count": 42,
   "id": "e3d80b9d",
   "metadata": {},
   "outputs": [],
   "source": [
    "subject = 'abcccC. 123!'"
   ]
  },
  {
   "cell_type": "markdown",
   "id": "58cdd6b4",
   "metadata": {},
   "source": [
    "#### `\\w`: any letter or number"
   ]
  },
  {
   "cell_type": "code",
   "execution_count": 45,
   "id": "5fc0eede",
   "metadata": {},
   "outputs": [
    {
     "data": {
      "text/plain": [
       "['ab', 'cc', 'cC', '12']"
      ]
     },
     "execution_count": 45,
     "metadata": {},
     "output_type": "execute_result"
    }
   ],
   "source": [
    "regexp = r'\\w\\w'\n",
    "\n",
    "re.findall(regexp, subject)"
   ]
  },
  {
   "cell_type": "markdown",
   "id": "b873c8bf",
   "metadata": {},
   "source": [
    "#### what does \\w\\w bring back?"
   ]
  },
  {
   "cell_type": "code",
   "execution_count": 23,
   "id": "352f6910",
   "metadata": {},
   "outputs": [
    {
     "data": {
      "text/plain": [
       "['.', ' ', '!']"
      ]
     },
     "execution_count": 23,
     "metadata": {},
     "output_type": "execute_result"
    }
   ],
   "source": [
    "regexp = r'\\W'\n",
    "\n",
    "re.findall(regexp, subject)"
   ]
  },
  {
   "cell_type": "markdown",
   "id": "4e6024ac",
   "metadata": {},
   "source": [
    "#### `\\W`: anything that is not a letter or number"
   ]
  },
  {
   "cell_type": "code",
   "execution_count": 24,
   "id": "f314be74",
   "metadata": {},
   "outputs": [
    {
     "data": {
      "text/plain": [
       "['.', ' ', '!']"
      ]
     },
     "execution_count": 24,
     "metadata": {},
     "output_type": "execute_result"
    }
   ],
   "source": [
    "regexp = r'\\W'\n",
    "\n",
    "re.findall(regexp, subject)"
   ]
  },
  {
   "cell_type": "markdown",
   "id": "405478f0",
   "metadata": {},
   "source": [
    "#### `\\d`: any digit"
   ]
  },
  {
   "cell_type": "code",
   "execution_count": 25,
   "id": "699528b0",
   "metadata": {},
   "outputs": [
    {
     "data": {
      "text/plain": [
       "['1', '2', '3']"
      ]
     },
     "execution_count": 25,
     "metadata": {},
     "output_type": "execute_result"
    }
   ],
   "source": [
    "regexp = r'\\d'\n",
    "\n",
    "re.findall(regexp, subject)"
   ]
  },
  {
   "cell_type": "markdown",
   "id": "4bc29a4f",
   "metadata": {},
   "source": [
    "#### `\\D`: anything that is not a digit"
   ]
  },
  {
   "cell_type": "code",
   "execution_count": 26,
   "id": "9130752a",
   "metadata": {},
   "outputs": [
    {
     "data": {
      "text/plain": [
       "['a', 'b', 'c', 'c', 'c', 'C', '.', ' ', '!']"
      ]
     },
     "execution_count": 26,
     "metadata": {},
     "output_type": "execute_result"
    }
   ],
   "source": [
    "regexp = r'\\D'\n",
    "\n",
    "re.findall(regexp, subject)"
   ]
  },
  {
   "cell_type": "markdown",
   "id": "66e4bcd9",
   "metadata": {},
   "source": [
    "#### `\\s` : any whitespace"
   ]
  },
  {
   "cell_type": "code",
   "execution_count": 27,
   "id": "cf86bb88",
   "metadata": {},
   "outputs": [
    {
     "data": {
      "text/plain": [
       "[' ']"
      ]
     },
     "execution_count": 27,
     "metadata": {},
     "output_type": "execute_result"
    }
   ],
   "source": [
    "regexp = r'\\s'\n",
    "\n",
    "re.findall(regexp, subject)"
   ]
  },
  {
   "cell_type": "markdown",
   "id": "6c78b846",
   "metadata": {},
   "source": [
    "#### `.` : anything"
   ]
  },
  {
   "cell_type": "code",
   "execution_count": 30,
   "id": "f24fbfed",
   "metadata": {},
   "outputs": [
    {
     "data": {
      "text/plain": [
       "['a', 'b', 'c', 'c', 'c', 'C', '.', ' ', '1', '2', '3', '!']"
      ]
     },
     "execution_count": 30,
     "metadata": {},
     "output_type": "execute_result"
    }
   ],
   "source": [
    "regexp = r'.'\n",
    "\n",
    "re.findall(regexp, subject)"
   ]
  },
  {
   "cell_type": "markdown",
   "id": "c3a72e71",
   "metadata": {},
   "source": [
    "#### find the `.` only\n",
    "use an escape character, `\\`, to find characters that are metacharacters"
   ]
  },
  {
   "cell_type": "code",
   "execution_count": 33,
   "id": "aa717a74",
   "metadata": {},
   "outputs": [
    {
     "data": {
      "text/plain": [
       "['.']"
      ]
     },
     "execution_count": 33,
     "metadata": {},
     "output_type": "execute_result"
    }
   ],
   "source": [
    "regexp = r'\\.'\n",
    "\n",
    "re.findall(regexp, subject)"
   ]
  },
  {
   "cell_type": "markdown",
   "id": "557b5dba",
   "metadata": {},
   "source": [
    "<div class=\"alert alert-block alert-warning\">\n",
    "    <b>Mini-Exercise</b>\n",
    "    \n",
    "- Match the string 'c 1' using only metacharacters\n",
    "- The returned list should have only element in it\n",
    "- Find 3 different syntax combinations\n",
    "\n",
    "    \n",
    "</div>"
   ]
  },
  {
   "cell_type": "code",
   "execution_count": 58,
   "id": "b30142b8",
   "metadata": {},
   "outputs": [],
   "source": [
    "subject = 'c 1'"
   ]
  },
  {
   "cell_type": "code",
   "execution_count": 55,
   "id": "5c91f152",
   "metadata": {},
   "outputs": [
    {
     "data": {
      "text/plain": [
       "['c 1']"
      ]
     },
     "execution_count": 55,
     "metadata": {},
     "output_type": "execute_result"
    }
   ],
   "source": [
    "regexp = r'\\w\\s\\w'\n",
    "\n",
    "re.findall(regexp, subject)"
   ]
  },
  {
   "cell_type": "code",
   "execution_count": 62,
   "id": "3be5f482",
   "metadata": {},
   "outputs": [
    {
     "data": {
      "text/plain": [
       "['c 1']"
      ]
     },
     "execution_count": 62,
     "metadata": {},
     "output_type": "execute_result"
    }
   ],
   "source": [
    "regexp = r'\\D\\s\\d'\n",
    "\n",
    "re.findall(regexp, subject)"
   ]
  },
  {
   "cell_type": "code",
   "execution_count": 64,
   "id": "f99b181b",
   "metadata": {},
   "outputs": [
    {
     "data": {
      "text/plain": [
       "['c 1']"
      ]
     },
     "execution_count": 64,
     "metadata": {},
     "output_type": "execute_result"
    }
   ],
   "source": [
    "regexp = r'\\D\\W\\w'\n",
    "\n",
    "re.findall(regexp, subject)"
   ]
  },
  {
   "cell_type": "code",
   "execution_count": 65,
   "id": "7d4946fe",
   "metadata": {},
   "outputs": [
    {
     "data": {
      "text/plain": [
       "['c 1']"
      ]
     },
     "execution_count": 65,
     "metadata": {},
     "output_type": "execute_result"
    }
   ],
   "source": [
    "regexp = r'.\\W.'\n",
    "\n",
    "re.findall(regexp, subject)"
   ]
  },
  {
   "cell_type": "code",
   "execution_count": 66,
   "id": "ed5486e8",
   "metadata": {},
   "outputs": [
    {
     "data": {
      "text/plain": [
       "['c 1']"
      ]
     },
     "execution_count": 66,
     "metadata": {},
     "output_type": "execute_result"
    }
   ],
   "source": [
    "regexp = r'...'\n",
    "\n",
    "re.findall(regexp, subject)"
   ]
  },
  {
   "cell_type": "code",
   "execution_count": 67,
   "id": "67ca462d",
   "metadata": {},
   "outputs": [
    {
     "data": {
      "text/plain": [
       "['c 1']"
      ]
     },
     "execution_count": 67,
     "metadata": {},
     "output_type": "execute_result"
    }
   ],
   "source": [
    "regexp = r'.\\D.'\n",
    "\n",
    "re.findall(regexp, subject)"
   ]
  },
  {
   "cell_type": "markdown",
   "id": "c4b108f3",
   "metadata": {},
   "source": [
    "## Repeating"
   ]
  },
  {
   "cell_type": "markdown",
   "id": "76de103c",
   "metadata": {},
   "source": [
    "<div class='alert alert-info'>\n",
    "    \n",
    "- `{}`: custom number of repetitions\n",
    "    - `{x}`: exactly x repetitions\n",
    "    - `{x,}`: x or more\n",
    "    - `{x,y}`: between x and y repetitions\n",
    "\n",
    "- `*`: zero or more\n",
    "- `+`: one or more\n",
    "- `?`: optional / not greedy\n",
    "    \n",
    "</div>"
   ]
  },
  {
   "cell_type": "code",
   "execution_count": 89,
   "id": "e1308611",
   "metadata": {},
   "outputs": [],
   "source": [
    "subject = 'ccccc! 123 ccc! 99!'"
   ]
  },
  {
   "cell_type": "markdown",
   "id": "74f92e94",
   "metadata": {},
   "source": [
    "#### find the whole string"
   ]
  },
  {
   "cell_type": "code",
   "execution_count": 90,
   "id": "d4f1c234",
   "metadata": {},
   "outputs": [
    {
     "data": {
      "text/plain": [
       "['ccccc! 123 ccc! 99!']"
      ]
     },
     "execution_count": 90,
     "metadata": {},
     "output_type": "execute_result"
    }
   ],
   "source": [
    "regexp = r'.+'\n",
    "\n",
    "re.findall(regexp, subject)"
   ]
  },
  {
   "cell_type": "code",
   "execution_count": 70,
   "id": "4c48b5ca",
   "metadata": {},
   "outputs": [
    {
     "data": {
      "text/plain": [
       "['ccccc! 123 ccc! 99!', '']"
      ]
     },
     "execution_count": 70,
     "metadata": {},
     "output_type": "execute_result"
    }
   ],
   "source": [
    "regexp = r'.*'\n",
    "\n",
    "re.findall(regexp, subject)"
   ]
  },
  {
   "cell_type": "markdown",
   "id": "e6650780",
   "metadata": {},
   "source": [
    "#### find all the c groups"
   ]
  },
  {
   "cell_type": "code",
   "execution_count": 73,
   "id": "4859a47e",
   "metadata": {},
   "outputs": [
    {
     "data": {
      "text/plain": [
       "['ccc', 'ccc']"
      ]
     },
     "execution_count": 73,
     "metadata": {},
     "output_type": "execute_result"
    }
   ],
   "source": [
    "regexp = r'c{3}'\n",
    "\n",
    "re.findall(regexp, subject)"
   ]
  },
  {
   "cell_type": "code",
   "execution_count": 74,
   "id": "2275a3bf",
   "metadata": {},
   "outputs": [
    {
     "data": {
      "text/plain": [
       "['ccccc']"
      ]
     },
     "execution_count": 74,
     "metadata": {},
     "output_type": "execute_result"
    }
   ],
   "source": [
    "regexp = r'c{5}'\n",
    "\n",
    "re.findall(regexp, subject)"
   ]
  },
  {
   "cell_type": "code",
   "execution_count": 76,
   "id": "a03ce0f4",
   "metadata": {},
   "outputs": [
    {
     "data": {
      "text/plain": [
       "['ccccc', 'ccc']"
      ]
     },
     "execution_count": 76,
     "metadata": {},
     "output_type": "execute_result"
    }
   ],
   "source": [
    "regexp = r'c{3,}'\n",
    "\n",
    "re.findall(regexp, subject)"
   ]
  },
  {
   "cell_type": "code",
   "execution_count": 77,
   "id": "a17036a3",
   "metadata": {},
   "outputs": [
    {
     "data": {
      "text/plain": [
       "['ccccc', 'ccc']"
      ]
     },
     "execution_count": 77,
     "metadata": {},
     "output_type": "execute_result"
    }
   ],
   "source": [
    "regexp = r'c+'\n",
    "\n",
    "re.findall(regexp, subject)"
   ]
  },
  {
   "cell_type": "markdown",
   "id": "bfa84a38",
   "metadata": {},
   "source": [
    "#### find 123 and anything after it"
   ]
  },
  {
   "cell_type": "code",
   "execution_count": 79,
   "id": "a45ce1c4",
   "metadata": {},
   "outputs": [
    {
     "data": {
      "text/plain": [
       "['123']"
      ]
     },
     "execution_count": 79,
     "metadata": {},
     "output_type": "execute_result"
    }
   ],
   "source": [
    "regexp = r'\\d{3}'\n",
    "\n",
    "re.findall(regexp, subject)"
   ]
  },
  {
   "cell_type": "code",
   "execution_count": 82,
   "id": "7dd635f7",
   "metadata": {},
   "outputs": [
    {
     "data": {
      "text/plain": [
       "['123 ccc! 99!']"
      ]
     },
     "execution_count": 82,
     "metadata": {},
     "output_type": "execute_result"
    }
   ],
   "source": [
    "regexp = r'123.+'\n",
    "\n",
    "re.findall(regexp, subject)"
   ]
  },
  {
   "cell_type": "code",
   "execution_count": 84,
   "id": "29f77ce8",
   "metadata": {},
   "outputs": [
    {
     "data": {
      "text/plain": [
       "[' ccc! 99!']"
      ]
     },
     "execution_count": 84,
     "metadata": {},
     "output_type": "execute_result"
    }
   ],
   "source": [
    "regexp = r'123(.+)' ## gets everything after a certain sequence\n",
    "\n",
    "re.findall(regexp, subject)"
   ]
  },
  {
   "cell_type": "markdown",
   "id": "4b0e14b0",
   "metadata": {},
   "source": [
    "#### find the exclamation points and everything inbetween them"
   ]
  },
  {
   "cell_type": "code",
   "execution_count": 85,
   "id": "68592688",
   "metadata": {},
   "outputs": [
    {
     "data": {
      "text/plain": [
       "['! 123 ccc! 99!']"
      ]
     },
     "execution_count": 85,
     "metadata": {},
     "output_type": "execute_result"
    }
   ],
   "source": [
    "regexp = r'!.+!'\n",
    "\n",
    "re.findall(regexp, subject)"
   ]
  },
  {
   "cell_type": "markdown",
   "id": "2ea705b6",
   "metadata": {},
   "source": [
    "#### find the exclamation points and everything inbetween the first two"
   ]
  },
  {
   "cell_type": "code",
   "execution_count": 86,
   "id": "f342c97d",
   "metadata": {},
   "outputs": [
    {
     "data": {
      "text/plain": [
       "['! 123 ccc!']"
      ]
     },
     "execution_count": 86,
     "metadata": {},
     "output_type": "execute_result"
    }
   ],
   "source": [
    "regexp = r'!.+?!'\n",
    "\n",
    "re.findall(regexp, subject)"
   ]
  },
  {
   "cell_type": "markdown",
   "id": "a66ac8fa",
   "metadata": {},
   "source": [
    "<div class='alert alert-warning'>\n",
    "<b>Mini Exercise</b>\n",
    "    \n",
    "From the below string, find the following information:\n",
    "- Find all the numbers\n",
    "- Find the number that has exactly 5 digits\n",
    "- Find numbers that has 4 or more digits\n",
    "- Find `http://` or `https://`\n",
    "- Find the sentences contained in quotes"
   ]
  },
  {
   "cell_type": "code",
   "execution_count": 95,
   "id": "170bed29",
   "metadata": {},
   "outputs": [
    {
     "data": {
      "text/plain": [
       "'Codeup, founded in 2014, is located at 600 Navarro St. Suite 350, San Antonio, TX 78230. tagline: \"launch your career in tech!\" You can find us online at http://codeup.com and our alumni portal is located at https://alumni.codeup.comand \"codeup is a great school\"!'"
      ]
     },
     "execution_count": 95,
     "metadata": {},
     "output_type": "execute_result"
    }
   ],
   "source": [
    "subject = '''\n",
    "Codeup, founded in 2014, is located at 600 Navarro St. \n",
    "Suite 350, San Antonio, TX 78230. \n",
    "tagline: \"launch your career in tech!\" \n",
    "You can find us online at http://codeup.com \n",
    "and our alumni portal is located at https://alumni.codeup.com\n",
    "and \"codeup is a great school\"!\n",
    "'''\n",
    "\n",
    "subject = subject.replace('\\n','')\n",
    "subject"
   ]
  },
  {
   "cell_type": "markdown",
   "id": "b3e64e9d",
   "metadata": {},
   "source": [
    "#### Find all the numbers"
   ]
  },
  {
   "cell_type": "code",
   "execution_count": 97,
   "id": "c7b3029c",
   "metadata": {},
   "outputs": [
    {
     "data": {
      "text/plain": [
       "['2014', '600', '350', '78230']"
      ]
     },
     "execution_count": 97,
     "metadata": {},
     "output_type": "execute_result"
    }
   ],
   "source": [
    "regexp = r'\\d+'\n",
    "\n",
    "re.findall(regexp, subject)"
   ]
  },
  {
   "cell_type": "markdown",
   "id": "998a7ec5",
   "metadata": {},
   "source": [
    "#### Find a number that has exactly 5 digits"
   ]
  },
  {
   "cell_type": "code",
   "execution_count": 98,
   "id": "ff9d0a55",
   "metadata": {},
   "outputs": [
    {
     "data": {
      "text/plain": [
       "['78230']"
      ]
     },
     "execution_count": 98,
     "metadata": {},
     "output_type": "execute_result"
    }
   ],
   "source": [
    "regexp = r'\\d{5}'\n",
    "\n",
    "re.findall(regexp, subject)"
   ]
  },
  {
   "cell_type": "code",
   "execution_count": null,
   "id": "ba416905",
   "metadata": {},
   "outputs": [],
   "source": [
    "regexp = r'\\d{5}'\n",
    "\n",
    "re.findall(regexp, subject)"
   ]
  },
  {
   "cell_type": "markdown",
   "id": "f3d21e11",
   "metadata": {},
   "source": [
    "#### Find numbers that has 4 or more digits"
   ]
  },
  {
   "cell_type": "code",
   "execution_count": 109,
   "id": "a3141bf8",
   "metadata": {},
   "outputs": [
    {
     "data": {
      "text/plain": [
       "['2014', '78230']"
      ]
     },
     "execution_count": 109,
     "metadata": {},
     "output_type": "execute_result"
    }
   ],
   "source": [
    "regexp = r'\\d{4,}'\n",
    "\n",
    "re.findall(regexp, subject)"
   ]
  },
  {
   "cell_type": "markdown",
   "id": "0c9aea1a",
   "metadata": {},
   "source": [
    "#### Find the sentences contained in quotes"
   ]
  },
  {
   "cell_type": "code",
   "execution_count": 102,
   "id": "fa4c3f79",
   "metadata": {},
   "outputs": [
    {
     "data": {
      "text/plain": [
       "['\"launch your career in tech!\"', '\"codeup is a great school\"']"
      ]
     },
     "execution_count": 102,
     "metadata": {},
     "output_type": "execute_result"
    }
   ],
   "source": [
    "regexp = r'\".+?\"'\n",
    "\n",
    "re.findall(regexp, subject)"
   ]
  },
  {
   "cell_type": "markdown",
   "id": "fd3b6aec",
   "metadata": {},
   "source": [
    "#### Find `http://` or `https://`"
   ]
  },
  {
   "cell_type": "code",
   "execution_count": 112,
   "id": "bac1cab9",
   "metadata": {},
   "outputs": [
    {
     "data": {
      "text/plain": [
       "['http://', 'https://']"
      ]
     },
     "execution_count": 112,
     "metadata": {},
     "output_type": "execute_result"
    }
   ],
   "source": [
    "regexp = r'ht.+?/\\D'\n",
    "\n",
    "re.findall(regexp, subject)"
   ]
  },
  {
   "cell_type": "code",
   "execution_count": null,
   "id": "473c31ce",
   "metadata": {},
   "outputs": [],
   "source": [
    "regexp = \n",
    "\n",
    "re.findall(regexp, subject)"
   ]
  },
  {
   "cell_type": "code",
   "execution_count": null,
   "id": "74f7d99d",
   "metadata": {},
   "outputs": [],
   "source": [
    "regexp = \n",
    "\n",
    "re.findall(regexp, subject)"
   ]
  },
  {
   "cell_type": "markdown",
   "id": "1ed9f146",
   "metadata": {},
   "source": [
    "### Any of / None of"
   ]
  },
  {
   "cell_type": "markdown",
   "id": "9b578aa6",
   "metadata": {},
   "source": [
    "<div class='alert alert-info'>\n",
    "    \n",
    "- `[]`: will match any element inside of\n",
    "- `[^]`: will match any element NOT inside of\n",
    "- `[-]`: will match a range of values inside of\n",
    "    \n",
    "</div>"
   ]
  },
  {
   "cell_type": "markdown",
   "id": "d1955cc5",
   "metadata": {},
   "source": [
    "#### match using brackets"
   ]
  },
  {
   "cell_type": "code",
   "execution_count": 113,
   "id": "59a687f5",
   "metadata": {},
   "outputs": [],
   "source": [
    "subject = 'abc 12345 1bc'"
   ]
  },
  {
   "cell_type": "markdown",
   "id": "5669534e",
   "metadata": {},
   "source": [
    "#### find a or b"
   ]
  },
  {
   "cell_type": "code",
   "execution_count": 114,
   "id": "3d3f0abe",
   "metadata": {},
   "outputs": [
    {
     "data": {
      "text/plain": [
       "['a', 'b', 'b']"
      ]
     },
     "execution_count": 114,
     "metadata": {},
     "output_type": "execute_result"
    }
   ],
   "source": [
    "regexp = r'a|b'\n",
    "\n",
    "re.findall(regexp, subject)"
   ]
  },
  {
   "cell_type": "code",
   "execution_count": 117,
   "id": "39a1b2ad",
   "metadata": {},
   "outputs": [
    {
     "data": {
      "text/plain": [
       "['a', 'b', 'b']"
      ]
     },
     "execution_count": 117,
     "metadata": {},
     "output_type": "execute_result"
    }
   ],
   "source": [
    "regexp = r'[ab]'\n",
    "\n",
    "re.findall(regexp, subject)"
   ]
  },
  {
   "cell_type": "markdown",
   "id": "46c54fa0",
   "metadata": {},
   "source": [
    "#### find values that are NOT a or b"
   ]
  },
  {
   "cell_type": "code",
   "execution_count": 120,
   "id": "096eb59c",
   "metadata": {},
   "outputs": [
    {
     "data": {
      "text/plain": [
       "['c', ' ', '1', '2', '3', '4', '5', ' ', '1', 'c']"
      ]
     },
     "execution_count": 120,
     "metadata": {},
     "output_type": "execute_result"
    }
   ],
   "source": [
    "regexp = r'[^ab]'\n",
    "\n",
    "re.findall(regexp, subject)"
   ]
  },
  {
   "cell_type": "markdown",
   "id": "d1bb4c04",
   "metadata": {},
   "source": [
    "#### find values that are between 2 and 4"
   ]
  },
  {
   "cell_type": "code",
   "execution_count": 121,
   "id": "3ae43cb7",
   "metadata": {},
   "outputs": [
    {
     "data": {
      "text/plain": [
       "['2', '3', '4']"
      ]
     },
     "execution_count": 121,
     "metadata": {},
     "output_type": "execute_result"
    }
   ],
   "source": [
    "regexp = r'[2-4]'\n",
    "\n",
    "re.findall(regexp, subject)"
   ]
  },
  {
   "cell_type": "markdown",
   "id": "57902c3c",
   "metadata": {},
   "source": [
    "### Anchors\n",
    "<div class='alert alert-info'>\n",
    "\n",
    "- `^`: starts with\n",
    "- `$`: ends with\n",
    "- `\\b`: word boundary\n",
    "\n",
    "</div>"
   ]
  },
  {
   "cell_type": "code",
   "execution_count": 123,
   "id": "51f3910e",
   "metadata": {},
   "outputs": [],
   "source": [
    "subject = 'kiwi aardvark banana codeup data science academy extra'"
   ]
  },
  {
   "cell_type": "markdown",
   "id": "25554e66",
   "metadata": {},
   "source": [
    "#### match all words that start with a vowel"
   ]
  },
  {
   "cell_type": "code",
   "execution_count": 131,
   "id": "1230dc6e",
   "metadata": {},
   "outputs": [
    {
     "data": {
      "text/plain": [
       "['iwi', 'aardvark', 'anana', 'odeup', 'ata', 'ience', 'academy', 'extra']"
      ]
     },
     "execution_count": 131,
     "metadata": {},
     "output_type": "execute_result"
    }
   ],
   "source": [
    "regexp = r'[aeiou]\\w+'\n",
    "\n",
    "re.findall(regexp, subject)"
   ]
  },
  {
   "cell_type": "code",
   "execution_count": 132,
   "id": "61c0bca5",
   "metadata": {},
   "outputs": [
    {
     "data": {
      "text/plain": [
       "['aardvark', 'academy', 'extra']"
      ]
     },
     "execution_count": 132,
     "metadata": {},
     "output_type": "execute_result"
    }
   ],
   "source": [
    "#using a boundary\n",
    "regexp = r'\\b[aeiou]\\w+'\n",
    "\n",
    "re.findall(regexp, subject)"
   ]
  },
  {
   "cell_type": "code",
   "execution_count": 136,
   "id": "b187a89b",
   "metadata": {},
   "outputs": [
    {
     "data": {
      "text/plain": [
       "['kiwi', 'aardvark', 'banana', 'codeup', 'data', 'science', 'academy', 'extra']"
      ]
     },
     "execution_count": 136,
     "metadata": {},
     "output_type": "execute_result"
    }
   ],
   "source": [
    "subjects = subject.split()\n",
    "subjects"
   ]
  },
  {
   "cell_type": "code",
   "execution_count": 141,
   "id": "4a8bab55",
   "metadata": {
    "scrolled": false
   },
   "outputs": [
    {
     "name": "stdout",
     "output_type": "stream",
     "text": [
      "[]\n",
      "['aardvark']\n",
      "[]\n",
      "[]\n",
      "[]\n",
      "[]\n",
      "['academy']\n",
      "['extra']\n"
     ]
    }
   ],
   "source": [
    "for sub in subjects:\n",
    "    print(re.findall(r'^[aeiou]\\w+', sub))"
   ]
  },
  {
   "cell_type": "code",
   "execution_count": 143,
   "id": "8782bcb3",
   "metadata": {},
   "outputs": [
    {
     "data": {
      "text/plain": [
       "['kiwi', 'banana', 'data', 'science', 'extra']"
      ]
     },
     "execution_count": 143,
     "metadata": {},
     "output_type": "execute_result"
    }
   ],
   "source": [
    "#using an anchor\n",
    "regexp = r'\\w+[aeiou]\\b'\n",
    "\n",
    "re.findall(regexp, subject)"
   ]
  },
  {
   "cell_type": "code",
   "execution_count": 144,
   "id": "4236e3a1",
   "metadata": {},
   "outputs": [
    {
     "data": {
      "text/plain": [
       "['extra']"
      ]
     },
     "execution_count": 144,
     "metadata": {},
     "output_type": "execute_result"
    }
   ],
   "source": [
    "regexp = r'\\w+[aeiou]$'\n",
    "\n",
    "re.findall(regexp, subject)"
   ]
  },
  {
   "cell_type": "code",
   "execution_count": null,
   "id": "96f87fd0",
   "metadata": {},
   "outputs": [],
   "source": [
    "#split subjects to use anchor\n"
   ]
  },
  {
   "cell_type": "code",
   "execution_count": null,
   "id": "26357578",
   "metadata": {},
   "outputs": [],
   "source": [
    "#use for loop to cycle through them\n"
   ]
  },
  {
   "cell_type": "markdown",
   "id": "47289452",
   "metadata": {},
   "source": [
    "#### match all words that end with a vowel"
   ]
  },
  {
   "cell_type": "code",
   "execution_count": null,
   "id": "ea299b54",
   "metadata": {},
   "outputs": [],
   "source": []
  },
  {
   "cell_type": "code",
   "execution_count": null,
   "id": "e35a97e2",
   "metadata": {},
   "outputs": [],
   "source": [
    "subject = 'kiwi aardvark banana codeup data science academy extra'"
   ]
  },
  {
   "cell_type": "code",
   "execution_count": null,
   "id": "8bedbb4c",
   "metadata": {},
   "outputs": [],
   "source": [
    "regexp = \n",
    "\n",
    "re.findall(regexp, subject)"
   ]
  },
  {
   "cell_type": "markdown",
   "id": "648219a2",
   "metadata": {},
   "source": [
    "<div class='alert alert-warning'>\n",
    "\n",
    "<b>Mini Exercise</b>\n",
    "    \n",
    "Write regular expressions to find the following values\n",
    "\n",
    "- Find any even numbers (regardless if its apart of a bigger number)\n",
    "- Find entire numbers that are even\n",
    "   \n",
    "    \n",
    "- Find 2 or more odd digits in a row.\n",
    "\n",
    "    \n",
    "- Find all the capital letters\n",
    "- Find all words that start with a capital letter\n",
    "    \n",
    "<div>"
   ]
  },
  {
   "cell_type": "code",
   "execution_count": 145,
   "id": "fe357c91",
   "metadata": {},
   "outputs": [
    {
     "data": {
      "text/plain": [
       "'Codeup, founded in 2014, is located at 600 Navarro St. Suite 350, San Antonio, TX 78230. tagline: \"launch your career in tech!\" You can find us online at http://codeup.com and our alumni portal is located at https://alumni.codeup.comand \"codeup is a great school\"!'"
      ]
     },
     "execution_count": 145,
     "metadata": {},
     "output_type": "execute_result"
    }
   ],
   "source": [
    "subject = '''\n",
    "Codeup, founded in 2014, is located at 600 Navarro St. \n",
    "Suite 350, San Antonio, TX 78230. \n",
    "tagline: \"launch your career in tech!\" \n",
    "You can find us online at http://codeup.com \n",
    "and our alumni portal is located at https://alumni.codeup.com\n",
    "and \"codeup is a great school\"!\n",
    "'''\n",
    "\n",
    "subject = subject.replace('\\n','')\n",
    "subject"
   ]
  },
  {
   "cell_type": "markdown",
   "id": "d0fcf2c5",
   "metadata": {},
   "source": [
    "#### Find any even numbers (regardless if its apart of a bigger number)"
   ]
  },
  {
   "cell_type": "code",
   "execution_count": 176,
   "id": "fc701a0e",
   "metadata": {},
   "outputs": [
    {
     "data": {
      "text/plain": [
       "['2', '4', '6', '8', '2']"
      ]
     },
     "execution_count": 176,
     "metadata": {},
     "output_type": "execute_result"
    }
   ],
   "source": [
    "regexp = r'[2468]'\n",
    "\n",
    "re.findall(regexp, subject)"
   ]
  },
  {
   "cell_type": "code",
   "execution_count": 155,
   "id": "4b551d6d",
   "metadata": {},
   "outputs": [
    {
     "name": "stdout",
     "output_type": "stream",
     "text": [
      "['2', '4', '6', '8', '2']\n"
     ]
    }
   ],
   "source": [
    "regexp = r'\\d'\n",
    "\n",
    "the_answer = list(re.findall(regexp, subject) )\n",
    "new_list = []\n",
    "for a in the_answer:\n",
    "    j = int(a)\n",
    "    if j % 2 == 0:\n",
    "        if j != 0:\n",
    "            new_list.append(a)\n",
    "print(new_list)"
   ]
  },
  {
   "cell_type": "markdown",
   "id": "d6380fd5",
   "metadata": {},
   "source": [
    "#### Find entire numbers that are even"
   ]
  },
  {
   "cell_type": "code",
   "execution_count": 199,
   "id": "378e54f3",
   "metadata": {},
   "outputs": [
    {
     "data": {
      "text/plain": [
       "['2014', '600', '350', '78230']"
      ]
     },
     "execution_count": 199,
     "metadata": {},
     "output_type": "execute_result"
    }
   ],
   "source": [
    "regexp = r'\\w+[02468]\\b'\n",
    "\n",
    "re.findall(regexp, subject)"
   ]
  },
  {
   "cell_type": "code",
   "execution_count": 156,
   "id": "c5f986d7",
   "metadata": {},
   "outputs": [
    {
     "name": "stdout",
     "output_type": "stream",
     "text": [
      "['2014', '600', '350', '78230']\n"
     ]
    }
   ],
   "source": [
    "regexp = r'\\d+'\n",
    "\n",
    "the_answer = list(re.findall(regexp, subject) )\n",
    "new_list = []\n",
    "for a in the_answer:\n",
    "    j = int(a)\n",
    "    if j % 2 == 0:\n",
    "        new_list.append(a)\n",
    "print(new_list)"
   ]
  },
  {
   "cell_type": "markdown",
   "id": "e3308bc3",
   "metadata": {},
   "source": [
    "#### Find 2 or more odd numbers in a row (regardless if its apart of a bigger number)"
   ]
  },
  {
   "cell_type": "code",
   "execution_count": 202,
   "id": "f4dc2182",
   "metadata": {},
   "outputs": [
    {
     "data": {
      "text/plain": [
       "['35']"
      ]
     },
     "execution_count": 202,
     "metadata": {},
     "output_type": "execute_result"
    }
   ],
   "source": [
    "regexp = r'[13579]{2,}'# this one is right\n",
    "\n",
    "re.findall(regexp, subject)"
   ]
  },
  {
   "cell_type": "code",
   "execution_count": 161,
   "id": "23742a6d",
   "metadata": {},
   "outputs": [
    {
     "name": "stdout",
     "output_type": "stream",
     "text": [
      "['35', '23']\n"
     ]
    }
   ],
   "source": [
    "regexp = r'\\d\\d'\n",
    "\n",
    "the_answer = list(re.findall(regexp, subject) )\n",
    "the_answer\n",
    "\n",
    "new_list = []\n",
    "for a in the_answer:\n",
    "    j = int(a)\n",
    "    if j % 2 != 0:\n",
    "        new_list.append(a)\n",
    "print(new_list)"
   ]
  },
  {
   "cell_type": "markdown",
   "id": "3ef75711",
   "metadata": {},
   "source": [
    "#### Find all the capital letters"
   ]
  },
  {
   "cell_type": "code",
   "execution_count": 190,
   "id": "b3cc84e3",
   "metadata": {},
   "outputs": [
    {
     "data": {
      "text/plain": [
       "['C', 'N', 'S', 'S', 'S', 'A', 'T', 'X', 'Y']"
      ]
     },
     "execution_count": 190,
     "metadata": {},
     "output_type": "execute_result"
    }
   ],
   "source": [
    "regexp = r'[A-Z]'\n",
    "\n",
    "re.findall(regexp, subject)"
   ]
  },
  {
   "cell_type": "code",
   "execution_count": 167,
   "id": "d17d66e6",
   "metadata": {},
   "outputs": [
    {
     "name": "stdout",
     "output_type": "stream",
     "text": [
      "['C', 'N', 'S', 'S', 'S', 'A', 'T', 'X', 'Y']\n"
     ]
    }
   ],
   "source": [
    "regexp = r'\\w'\n",
    "\n",
    "answer_list = list(re.findall(regexp, subject))\n",
    "new_list = []\n",
    "for letter in answer_list:\n",
    "    if letter.isupper():\n",
    "        new_list.append(letter)\n",
    "print(new_list)"
   ]
  },
  {
   "cell_type": "markdown",
   "id": "b1291798",
   "metadata": {},
   "source": [
    "#### Find all words that start with a capital letter"
   ]
  },
  {
   "cell_type": "code",
   "execution_count": 204,
   "id": "3bda6a89",
   "metadata": {},
   "outputs": [
    {
     "data": {
      "text/plain": [
       "['Codeup', 'Navarro', 'Suite', 'San', 'Antonio', 'You']"
      ]
     },
     "execution_count": 204,
     "metadata": {},
     "output_type": "execute_result"
    }
   ],
   "source": [
    "regexp = r'[A-Z]\\w\\w+'\n",
    "\n",
    "re.findall(regexp, subject)"
   ]
  },
  {
   "cell_type": "code",
   "execution_count": 175,
   "id": "55a669ce",
   "metadata": {},
   "outputs": [
    {
     "name": "stdout",
     "output_type": "stream",
     "text": [
      "Codeup\n",
      "Navarro\n",
      "Suite\n",
      "San\n",
      "Antonio\n",
      "You\n"
     ]
    }
   ],
   "source": [
    "regexp = r'\\w+'\n",
    "\n",
    "answer_list = list(re.findall(regexp, subject))\n",
    "for word in answer_list:\n",
    "    if word.isnumeric() == False:\n",
    "        if word[0].isupper():\n",
    "            if len(word) > 2:\n",
    "                print(word)"
   ]
  },
  {
   "cell_type": "markdown",
   "id": "a7666710",
   "metadata": {},
   "source": [
    "### Capture Groups"
   ]
  },
  {
   "cell_type": "markdown",
   "id": "20c988e9",
   "metadata": {},
   "source": [
    "<div class='alert alert-info'>\n",
    "    \n",
    "- `()`: grab what's contained in parentheses \n",
    "    \n",
    "</div> "
   ]
  },
  {
   "cell_type": "code",
   "execution_count": 205,
   "id": "ed296c97",
   "metadata": {},
   "outputs": [],
   "source": [
    "subject = '''\n",
    "    You can find us on the web at https://codeup.com. Our ip address is 123.123.123.123 (maybe).\n",
    "    '''"
   ]
  },
  {
   "cell_type": "markdown",
   "id": "736371b4",
   "metadata": {},
   "source": [
    "#### find the domain only"
   ]
  },
  {
   "cell_type": "code",
   "execution_count": 214,
   "id": "d6c5a9b8",
   "metadata": {},
   "outputs": [
    {
     "data": {
      "text/plain": [
       "['codeup']"
      ]
     },
     "execution_count": 214,
     "metadata": {},
     "output_type": "execute_result"
    }
   ],
   "source": [
    "regexp = r'https?://(.+).com'\n",
    "\n",
    "re.findall(regexp, subject)"
   ]
  },
  {
   "cell_type": "code",
   "execution_count": 215,
   "id": "39462901",
   "metadata": {},
   "outputs": [
    {
     "data": {
      "text/plain": [
       "['https://codeup.com']"
      ]
     },
     "execution_count": 215,
     "metadata": {},
     "output_type": "execute_result"
    }
   ],
   "source": [
    "regexp = r'https?://.+.com'\n",
    "\n",
    "re.findall(regexp, subject)"
   ]
  },
  {
   "cell_type": "markdown",
   "id": "dc23cc3a",
   "metadata": {},
   "source": [
    "#### find everything after the first sentence"
   ]
  },
  {
   "cell_type": "code",
   "execution_count": 220,
   "id": "126f4241",
   "metadata": {},
   "outputs": [
    {
     "data": {
      "text/plain": [
       "['ur ip address is 123.123.123.123 (maybe).']"
      ]
     },
     "execution_count": 220,
     "metadata": {},
     "output_type": "execute_result"
    }
   ],
   "source": [
    "regexp = r'\\.\\s.(.+)'\n",
    "\n",
    "re.findall(regexp, subject)"
   ]
  },
  {
   "cell_type": "markdown",
   "id": "7977b786",
   "metadata": {},
   "source": [
    "#### find the ip address"
   ]
  },
  {
   "cell_type": "code",
   "execution_count": 222,
   "id": "3eb8cec9",
   "metadata": {},
   "outputs": [
    {
     "data": {
      "text/plain": [
       "['123.123.123.123']"
      ]
     },
     "execution_count": 222,
     "metadata": {},
     "output_type": "execute_result"
    }
   ],
   "source": [
    "regexp = r'Our ip address is (.+?)\\s'\n",
    "\n",
    "re.findall(regexp, subject)"
   ]
  },
  {
   "cell_type": "code",
   "execution_count": 224,
   "id": "45d4f78e",
   "metadata": {},
   "outputs": [
    {
     "data": {
      "text/plain": [
       "['123.123.123.123']"
      ]
     },
     "execution_count": 224,
     "metadata": {},
     "output_type": "execute_result"
    }
   ],
   "source": [
    "#dont be greedy\n",
    "regexp = r'\\d{3}.\\d{3}.\\d{3}.\\d{3}'\n",
    "\n",
    "re.findall(regexp, subject)"
   ]
  },
  {
   "cell_type": "code",
   "execution_count": 233,
   "id": "ecd548a3",
   "metadata": {},
   "outputs": [
    {
     "data": {
      "text/plain": [
       "[('123.123.123.123', '123.')]"
      ]
     },
     "execution_count": 233,
     "metadata": {},
     "output_type": "execute_result"
    }
   ],
   "source": [
    "regexp = r'((\\d{3}\\.){3}\\d{3})'\n",
    "\n",
    "re.findall(regexp, subject)"
   ]
  },
  {
   "cell_type": "markdown",
   "id": "5eeb0842",
   "metadata": {},
   "source": [
    "### Non Capture Group"
   ]
  },
  {
   "cell_type": "markdown",
   "id": "dddb184c",
   "metadata": {},
   "source": [
    "<div class='alert alert-info'>\n",
    "\n",
    "- `?:`: to ignore a capture group also called shy"
   ]
  },
  {
   "cell_type": "markdown",
   "id": "4715e4cc",
   "metadata": {},
   "source": [
    "#### find the ip address"
   ]
  },
  {
   "cell_type": "code",
   "execution_count": 236,
   "id": "71be2c9d",
   "metadata": {},
   "outputs": [
    {
     "data": {
      "text/plain": [
       "['123.123.123.123']"
      ]
     },
     "execution_count": 236,
     "metadata": {},
     "output_type": "execute_result"
    }
   ],
   "source": [
    "regexp = r'((?:\\d{3}\\.){3}\\d{3})'\n",
    "\n",
    "re.findall(regexp, subject)"
   ]
  },
  {
   "cell_type": "markdown",
   "id": "b27107a2",
   "metadata": {},
   "source": [
    "<div class='alert alert-warning'>\n",
    "\n",
    "<b>Mini-Exercise</b>    \n",
    "    \n",
    "- Find the protocol, domain, and tld\n",
    "- Edit your previous code with a non-capture group to remove the domain from your result\n",
    "    \n",
    "</div>"
   ]
  },
  {
   "cell_type": "code",
   "execution_count": null,
   "id": "e217cb71",
   "metadata": {},
   "outputs": [],
   "source": [
    "subject = '''\n",
    "    You can find us on the web at https://codeup.com. Our ip address is 123.123.123.123 (maybe).\n",
    "    '''"
   ]
  },
  {
   "cell_type": "markdown",
   "id": "9add61b5",
   "metadata": {},
   "source": [
    "#### Find the protocol, domain, and tld"
   ]
  },
  {
   "cell_type": "code",
   "execution_count": null,
   "id": "f11c326b",
   "metadata": {},
   "outputs": [],
   "source": [
    "regexp = \n",
    "\n",
    "re.findall(regexp, subject)"
   ]
  },
  {
   "cell_type": "markdown",
   "id": "7c9dc43b",
   "metadata": {},
   "source": [
    "#### Edit your previous code with a non-capture group to remove the domain"
   ]
  },
  {
   "cell_type": "code",
   "execution_count": null,
   "id": "64e3025b",
   "metadata": {},
   "outputs": [],
   "source": [
    "regexp = \n",
    "\n",
    "re.findall(regexp, subject)"
   ]
  },
  {
   "cell_type": "markdown",
   "id": "3a15fe92",
   "metadata": {},
   "source": [
    "## more re library functions"
   ]
  },
  {
   "cell_type": "markdown",
   "id": "0cf24404",
   "metadata": {},
   "source": [
    "### `re.search`"
   ]
  },
  {
   "cell_type": "markdown",
   "id": "4aedbdb6",
   "metadata": {},
   "source": [
    "- scans through a string, looking for any location where the RE matches; returns match object"
   ]
  },
  {
   "cell_type": "code",
   "execution_count": 237,
   "id": "24afcc45",
   "metadata": {},
   "outputs": [],
   "source": [
    "subject = \"\"\"\n",
    "    Codeup, founded in 2014, is located at 600 Navarro St. Suite 350, \n",
    "    San Antonio, TX 78230. \n",
    "    You can find us online at http://codeup.com and\n",
    "    our alumni portal is located at https://alumni.codeup.com.\n",
    "    \"\"\""
   ]
  },
  {
   "cell_type": "markdown",
   "id": "9cfb5739",
   "metadata": {},
   "source": [
    "#### find the word located"
   ]
  },
  {
   "cell_type": "code",
   "execution_count": 242,
   "id": "31bc94cd",
   "metadata": {},
   "outputs": [],
   "source": [
    "#save the match result\n",
    "regexp = r'located'\n",
    "\n",
    "match = re.search(regexp, subject)"
   ]
  },
  {
   "cell_type": "code",
   "execution_count": 243,
   "id": "3dfbd996",
   "metadata": {},
   "outputs": [
    {
     "data": {
      "text/plain": [
       "re.Match"
      ]
     },
     "execution_count": 243,
     "metadata": {},
     "output_type": "execute_result"
    }
   ],
   "source": [
    "#results type\n",
    "type(match)"
   ]
  },
  {
   "cell_type": "code",
   "execution_count": 244,
   "id": "f87e11e6",
   "metadata": {},
   "outputs": [
    {
     "data": {
      "text/plain": [
       "(33, 40)"
      ]
     },
     "execution_count": 244,
     "metadata": {},
     "output_type": "execute_result"
    }
   ],
   "source": [
    "#.span()\n",
    "match.span()"
   ]
  },
  {
   "cell_type": "code",
   "execution_count": 246,
   "id": "6a4b93c4",
   "metadata": {},
   "outputs": [
    {
     "data": {
      "text/plain": [
       "'located'"
      ]
     },
     "execution_count": 246,
     "metadata": {},
     "output_type": "execute_result"
    }
   ],
   "source": [
    "#.group()\n",
    "match[0]"
   ]
  },
  {
   "cell_type": "code",
   "execution_count": 247,
   "id": "997f73fa",
   "metadata": {},
   "outputs": [
    {
     "data": {
      "text/plain": [
       "'located'"
      ]
     },
     "execution_count": 247,
     "metadata": {},
     "output_type": "execute_result"
    }
   ],
   "source": [
    "match.group()"
   ]
  },
  {
   "cell_type": "markdown",
   "id": "450a1998",
   "metadata": {},
   "source": [
    "#### find numbers"
   ]
  },
  {
   "cell_type": "code",
   "execution_count": 250,
   "id": "95e14c21",
   "metadata": {
    "scrolled": true
   },
   "outputs": [
    {
     "data": {
      "text/plain": [
       "'2014'"
      ]
     },
     "execution_count": 250,
     "metadata": {},
     "output_type": "execute_result"
    }
   ],
   "source": [
    "regexp = r'\\d+'\n",
    "\n",
    "re.search(regexp, subject)[0]"
   ]
  },
  {
   "cell_type": "markdown",
   "id": "90850d8d",
   "metadata": {},
   "source": [
    "#### find navarro"
   ]
  },
  {
   "cell_type": "code",
   "execution_count": 254,
   "id": "e5299598",
   "metadata": {},
   "outputs": [
    {
     "data": {
      "text/plain": [
       "NoneType"
      ]
     },
     "execution_count": 254,
     "metadata": {},
     "output_type": "execute_result"
    }
   ],
   "source": [
    "regexp = r'navorro'\n",
    "type(\n",
    "re.search(regexp, subject))"
   ]
  },
  {
   "cell_type": "code",
   "execution_count": null,
   "id": "e0be8eef",
   "metadata": {},
   "outputs": [],
   "source": [
    "#results type\n"
   ]
  },
  {
   "cell_type": "markdown",
   "id": "2c20bb13",
   "metadata": {},
   "source": [
    "### Name Capture Group"
   ]
  },
  {
   "cell_type": "markdown",
   "id": "7b485bf6",
   "metadata": {},
   "source": [
    "- `?P`: to name a capture group"
   ]
  },
  {
   "cell_type": "code",
   "execution_count": 255,
   "id": "25c4ebc3",
   "metadata": {},
   "outputs": [],
   "source": [
    "subject = '''\n",
    "    You can find us on the web at https://codeup.com. Our ip address is 123.123.123.123 (maybe).\n",
    "    '''"
   ]
  },
  {
   "cell_type": "markdown",
   "id": "6c15f95e",
   "metadata": {},
   "source": [
    "#### find the protocol, domain, and tld and name them"
   ]
  },
  {
   "cell_type": "code",
   "execution_count": 261,
   "id": "ee9fcd72",
   "metadata": {
    "scrolled": true
   },
   "outputs": [
    {
     "ename": "error",
     "evalue": "unknown extension ?<p at position 1",
     "output_type": "error",
     "traceback": [
      "\u001b[0;31m---------------------------------------------------------------------------\u001b[0m",
      "\u001b[0;31merror\u001b[0m                                     Traceback (most recent call last)",
      "Cell \u001b[0;32mIn[261], line 3\u001b[0m\n\u001b[1;32m      1\u001b[0m regexp \u001b[38;5;241m=\u001b[39m \u001b[38;5;124mr\u001b[39m\u001b[38;5;124m'\u001b[39m\u001b[38;5;124m(?<protocol>https?s*)://(\u001b[39m\u001b[38;5;124m\\\u001b[39m\u001b[38;5;124mw+)\u001b[39m\u001b[38;5;124m\\\u001b[39m\u001b[38;5;124m.(\u001b[39m\u001b[38;5;124m\\\u001b[39m\u001b[38;5;124mw+)\u001b[39m\u001b[38;5;124m'\u001b[39m\n\u001b[0;32m----> 3\u001b[0m \u001b[43mre\u001b[49m\u001b[38;5;241;43m.\u001b[39;49m\u001b[43msearch\u001b[49m\u001b[43m(\u001b[49m\u001b[43mregexp\u001b[49m\u001b[43m,\u001b[49m\u001b[43m \u001b[49m\u001b[43msubject\u001b[49m\u001b[43m)\u001b[49m\n",
      "File \u001b[0;32m/opt/homebrew/anaconda3/lib/python3.9/re.py:201\u001b[0m, in \u001b[0;36msearch\u001b[0;34m(pattern, string, flags)\u001b[0m\n\u001b[1;32m    198\u001b[0m \u001b[38;5;28;01mdef\u001b[39;00m \u001b[38;5;21msearch\u001b[39m(pattern, string, flags\u001b[38;5;241m=\u001b[39m\u001b[38;5;241m0\u001b[39m):\n\u001b[1;32m    199\u001b[0m \u001b[38;5;250m    \u001b[39m\u001b[38;5;124;03m\"\"\"Scan through string looking for a match to the pattern, returning\u001b[39;00m\n\u001b[1;32m    200\u001b[0m \u001b[38;5;124;03m    a Match object, or None if no match was found.\"\"\"\u001b[39;00m\n\u001b[0;32m--> 201\u001b[0m     \u001b[38;5;28;01mreturn\u001b[39;00m \u001b[43m_compile\u001b[49m\u001b[43m(\u001b[49m\u001b[43mpattern\u001b[49m\u001b[43m,\u001b[49m\u001b[43m \u001b[49m\u001b[43mflags\u001b[49m\u001b[43m)\u001b[49m\u001b[38;5;241m.\u001b[39msearch(string)\n",
      "File \u001b[0;32m/opt/homebrew/anaconda3/lib/python3.9/re.py:304\u001b[0m, in \u001b[0;36m_compile\u001b[0;34m(pattern, flags)\u001b[0m\n\u001b[1;32m    302\u001b[0m \u001b[38;5;28;01mif\u001b[39;00m \u001b[38;5;129;01mnot\u001b[39;00m sre_compile\u001b[38;5;241m.\u001b[39misstring(pattern):\n\u001b[1;32m    303\u001b[0m     \u001b[38;5;28;01mraise\u001b[39;00m \u001b[38;5;167;01mTypeError\u001b[39;00m(\u001b[38;5;124m\"\u001b[39m\u001b[38;5;124mfirst argument must be string or compiled pattern\u001b[39m\u001b[38;5;124m\"\u001b[39m)\n\u001b[0;32m--> 304\u001b[0m p \u001b[38;5;241m=\u001b[39m \u001b[43msre_compile\u001b[49m\u001b[38;5;241;43m.\u001b[39;49m\u001b[43mcompile\u001b[49m\u001b[43m(\u001b[49m\u001b[43mpattern\u001b[49m\u001b[43m,\u001b[49m\u001b[43m \u001b[49m\u001b[43mflags\u001b[49m\u001b[43m)\u001b[49m\n\u001b[1;32m    305\u001b[0m \u001b[38;5;28;01mif\u001b[39;00m \u001b[38;5;129;01mnot\u001b[39;00m (flags \u001b[38;5;241m&\u001b[39m DEBUG):\n\u001b[1;32m    306\u001b[0m     \u001b[38;5;28;01mif\u001b[39;00m \u001b[38;5;28mlen\u001b[39m(_cache) \u001b[38;5;241m>\u001b[39m\u001b[38;5;241m=\u001b[39m _MAXCACHE:\n\u001b[1;32m    307\u001b[0m         \u001b[38;5;66;03m# Drop the oldest item\u001b[39;00m\n",
      "File \u001b[0;32m/opt/homebrew/anaconda3/lib/python3.9/sre_compile.py:788\u001b[0m, in \u001b[0;36mcompile\u001b[0;34m(p, flags)\u001b[0m\n\u001b[1;32m    786\u001b[0m \u001b[38;5;28;01mif\u001b[39;00m isstring(p):\n\u001b[1;32m    787\u001b[0m     pattern \u001b[38;5;241m=\u001b[39m p\n\u001b[0;32m--> 788\u001b[0m     p \u001b[38;5;241m=\u001b[39m \u001b[43msre_parse\u001b[49m\u001b[38;5;241;43m.\u001b[39;49m\u001b[43mparse\u001b[49m\u001b[43m(\u001b[49m\u001b[43mp\u001b[49m\u001b[43m,\u001b[49m\u001b[43m \u001b[49m\u001b[43mflags\u001b[49m\u001b[43m)\u001b[49m\n\u001b[1;32m    789\u001b[0m \u001b[38;5;28;01melse\u001b[39;00m:\n\u001b[1;32m    790\u001b[0m     pattern \u001b[38;5;241m=\u001b[39m \u001b[38;5;28;01mNone\u001b[39;00m\n",
      "File \u001b[0;32m/opt/homebrew/anaconda3/lib/python3.9/sre_parse.py:955\u001b[0m, in \u001b[0;36mparse\u001b[0;34m(str, flags, state)\u001b[0m\n\u001b[1;32m    952\u001b[0m state\u001b[38;5;241m.\u001b[39mstr \u001b[38;5;241m=\u001b[39m \u001b[38;5;28mstr\u001b[39m\n\u001b[1;32m    954\u001b[0m \u001b[38;5;28;01mtry\u001b[39;00m:\n\u001b[0;32m--> 955\u001b[0m     p \u001b[38;5;241m=\u001b[39m \u001b[43m_parse_sub\u001b[49m\u001b[43m(\u001b[49m\u001b[43msource\u001b[49m\u001b[43m,\u001b[49m\u001b[43m \u001b[49m\u001b[43mstate\u001b[49m\u001b[43m,\u001b[49m\u001b[43m \u001b[49m\u001b[43mflags\u001b[49m\u001b[43m \u001b[49m\u001b[38;5;241;43m&\u001b[39;49m\u001b[43m \u001b[49m\u001b[43mSRE_FLAG_VERBOSE\u001b[49m\u001b[43m,\u001b[49m\u001b[43m \u001b[49m\u001b[38;5;241;43m0\u001b[39;49m\u001b[43m)\u001b[49m\n\u001b[1;32m    956\u001b[0m \u001b[38;5;28;01mexcept\u001b[39;00m Verbose:\n\u001b[1;32m    957\u001b[0m     \u001b[38;5;66;03m# the VERBOSE flag was switched on inside the pattern.  to be\u001b[39;00m\n\u001b[1;32m    958\u001b[0m     \u001b[38;5;66;03m# on the safe side, we'll parse the whole thing again...\u001b[39;00m\n\u001b[1;32m    959\u001b[0m     state \u001b[38;5;241m=\u001b[39m State()\n",
      "File \u001b[0;32m/opt/homebrew/anaconda3/lib/python3.9/sre_parse.py:444\u001b[0m, in \u001b[0;36m_parse_sub\u001b[0;34m(source, state, verbose, nested)\u001b[0m\n\u001b[1;32m    442\u001b[0m start \u001b[38;5;241m=\u001b[39m source\u001b[38;5;241m.\u001b[39mtell()\n\u001b[1;32m    443\u001b[0m \u001b[38;5;28;01mwhile\u001b[39;00m \u001b[38;5;28;01mTrue\u001b[39;00m:\n\u001b[0;32m--> 444\u001b[0m     itemsappend(\u001b[43m_parse\u001b[49m\u001b[43m(\u001b[49m\u001b[43msource\u001b[49m\u001b[43m,\u001b[49m\u001b[43m \u001b[49m\u001b[43mstate\u001b[49m\u001b[43m,\u001b[49m\u001b[43m \u001b[49m\u001b[43mverbose\u001b[49m\u001b[43m,\u001b[49m\u001b[43m \u001b[49m\u001b[43mnested\u001b[49m\u001b[43m \u001b[49m\u001b[38;5;241;43m+\u001b[39;49m\u001b[43m \u001b[49m\u001b[38;5;241;43m1\u001b[39;49m\u001b[43m,\u001b[49m\n\u001b[1;32m    445\u001b[0m \u001b[43m                       \u001b[49m\u001b[38;5;129;43;01mnot\u001b[39;49;00m\u001b[43m \u001b[49m\u001b[43mnested\u001b[49m\u001b[43m \u001b[49m\u001b[38;5;129;43;01mand\u001b[39;49;00m\u001b[43m \u001b[49m\u001b[38;5;129;43;01mnot\u001b[39;49;00m\u001b[43m \u001b[49m\u001b[43mitems\u001b[49m\u001b[43m)\u001b[49m)\n\u001b[1;32m    446\u001b[0m     \u001b[38;5;28;01mif\u001b[39;00m \u001b[38;5;129;01mnot\u001b[39;00m sourcematch(\u001b[38;5;124m\"\u001b[39m\u001b[38;5;124m|\u001b[39m\u001b[38;5;124m\"\u001b[39m):\n\u001b[1;32m    447\u001b[0m         \u001b[38;5;28;01mbreak\u001b[39;00m\n",
      "File \u001b[0;32m/opt/homebrew/anaconda3/lib/python3.9/sre_parse.py:749\u001b[0m, in \u001b[0;36m_parse\u001b[0;34m(source, state, verbose, nested, first)\u001b[0m\n\u001b[1;32m    747\u001b[0m     \u001b[38;5;28;01mraise\u001b[39;00m source\u001b[38;5;241m.\u001b[39merror(\u001b[38;5;124m\"\u001b[39m\u001b[38;5;124munexpected end of pattern\u001b[39m\u001b[38;5;124m\"\u001b[39m)\n\u001b[1;32m    748\u001b[0m \u001b[38;5;28;01mif\u001b[39;00m char \u001b[38;5;129;01mnot\u001b[39;00m \u001b[38;5;129;01min\u001b[39;00m \u001b[38;5;124m\"\u001b[39m\u001b[38;5;124m=!\u001b[39m\u001b[38;5;124m\"\u001b[39m:\n\u001b[0;32m--> 749\u001b[0m     \u001b[38;5;28;01mraise\u001b[39;00m source\u001b[38;5;241m.\u001b[39merror(\u001b[38;5;124m\"\u001b[39m\u001b[38;5;124munknown extension ?<\u001b[39m\u001b[38;5;124m\"\u001b[39m \u001b[38;5;241m+\u001b[39m char,\n\u001b[1;32m    750\u001b[0m                        \u001b[38;5;28mlen\u001b[39m(char) \u001b[38;5;241m+\u001b[39m \u001b[38;5;241m2\u001b[39m)\n\u001b[1;32m    751\u001b[0m \u001b[38;5;28mdir\u001b[39m \u001b[38;5;241m=\u001b[39m \u001b[38;5;241m-\u001b[39m\u001b[38;5;241m1\u001b[39m \u001b[38;5;66;03m# lookbehind\u001b[39;00m\n\u001b[1;32m    752\u001b[0m lookbehindgroups \u001b[38;5;241m=\u001b[39m state\u001b[38;5;241m.\u001b[39mlookbehindgroups\n",
      "\u001b[0;31merror\u001b[0m: unknown extension ?<p at position 1"
     ]
    }
   ],
   "source": [
    "regexp = r'(?<protocol>https?s*)://(\\w+)\\.(\\w+)'\n",
    "\n",
    "re.search(regexp, subject)"
   ]
  },
  {
   "cell_type": "code",
   "execution_count": 260,
   "id": "acc896dc",
   "metadata": {},
   "outputs": [],
   "source": [
    "#groups()\n"
   ]
  },
  {
   "cell_type": "code",
   "execution_count": null,
   "id": "69d4266b",
   "metadata": {},
   "outputs": [],
   "source": [
    "#groupdict()\n"
   ]
  },
  {
   "cell_type": "markdown",
   "id": "5495c93a",
   "metadata": {},
   "source": [
    "##### regex flag:  `re.VERBOSE`"
   ]
  },
  {
   "cell_type": "markdown",
   "id": "eafbbdc3",
   "metadata": {},
   "source": [
    "- `re.VERBOSE` will ignore whitespace in regex pattern"
   ]
  },
  {
   "cell_type": "code",
   "execution_count": 262,
   "id": "114f71fb",
   "metadata": {},
   "outputs": [
    {
     "data": {
      "text/plain": [
       "<re.Match object; span=(35, 53), match='https://codeup.com'>"
      ]
     },
     "execution_count": 262,
     "metadata": {},
     "output_type": "execute_result"
    }
   ],
   "source": [
    "regexp = r'''\n",
    "            (?P<protocol>http?s*)://\n",
    "            (?P<domain>\\w+)\\.\n",
    "            (?P<tld>\\w+)\n",
    "            '''\n",
    "match = re.search(regexp, subject, re.VERBOSE)\n",
    "match"
   ]
  },
  {
   "cell_type": "markdown",
   "id": "c7acfdab",
   "metadata": {},
   "source": [
    "### `re.sub`"
   ]
  },
  {
   "cell_type": "markdown",
   "id": "f5c4b353",
   "metadata": {},
   "source": [
    "- allows us to match a regex and substitute in a new substring for the match; returns string"
   ]
  },
  {
   "cell_type": "code",
   "execution_count": null,
   "id": "f7880a5e",
   "metadata": {},
   "outputs": [],
   "source": [
    "subject = 'abc 12345xyz'"
   ]
  },
  {
   "cell_type": "markdown",
   "id": "d03e8044",
   "metadata": {},
   "source": [
    "#### remove all the digits"
   ]
  },
  {
   "cell_type": "code",
   "execution_count": null,
   "id": "2a898e60",
   "metadata": {},
   "outputs": [],
   "source": [
    "regexp = \n",
    "\n",
    "re.sub(regexp, subject)"
   ]
  },
  {
   "cell_type": "markdown",
   "id": "fae4c350",
   "metadata": {},
   "source": [
    "#### replace all digits with an o "
   ]
  },
  {
   "cell_type": "code",
   "execution_count": null,
   "id": "17ebba7c",
   "metadata": {},
   "outputs": [],
   "source": [
    "regexp = \n",
    "\n",
    "re.sub(regexp, subject)"
   ]
  },
  {
   "cell_type": "markdown",
   "id": "da953bbe",
   "metadata": {},
   "source": [
    "#### replace all the digits with a single o"
   ]
  },
  {
   "cell_type": "code",
   "execution_count": null,
   "id": "8ec2b818",
   "metadata": {},
   "outputs": [],
   "source": [
    "regexp = \n",
    "\n",
    "re.sub(regexp, subject)"
   ]
  },
  {
   "cell_type": "markdown",
   "id": "d74c3815",
   "metadata": {},
   "source": [
    "#### Using regex with a str.replace, add regex=True arguement"
   ]
  },
  {
   "cell_type": "code",
   "execution_count": null,
   "id": "850f294a",
   "metadata": {},
   "outputs": [],
   "source": [
    "# subjects"
   ]
  },
  {
   "cell_type": "markdown",
   "id": "9ba42c76",
   "metadata": {},
   "source": [
    "### `re.compile`"
   ]
  },
  {
   "cell_type": "markdown",
   "id": "d29ab2ff",
   "metadata": {},
   "source": [
    "- prepare a regular expression for use ahead of time, returns expression"
   ]
  },
  {
   "cell_type": "code",
   "execution_count": null,
   "id": "50978711",
   "metadata": {},
   "outputs": [],
   "source": [
    "emails = [\n",
    "    \"jane@company.com\",\n",
    "    \"bob@company.com\",\n",
    "    \"jane.janeway@company.com\",\n",
    "    \"jane.janeway@dogood.org\",\n",
    "    \"jane.janet.janeway@dogood.org\", # bonus for the 3 part address\n",
    "]"
   ]
  },
  {
   "cell_type": "markdown",
   "id": "4de535d7",
   "metadata": {},
   "source": [
    "#### get name, domain, tld"
   ]
  },
  {
   "cell_type": "code",
   "execution_count": null,
   "id": "b50d02dd",
   "metadata": {},
   "outputs": [],
   "source": [
    "regexp = r'(\\w+\\.*\\w+)@(\\w+)\\.(\\w+)'\n",
    "\n",
    "for email in emails:\n",
    "    print(re.findall(regexp, email))"
   ]
  },
  {
   "cell_type": "code",
   "execution_count": null,
   "id": "a761756f",
   "metadata": {},
   "outputs": [],
   "source": [
    "pattern = re.compile(r'''\n",
    "        (?P<name>\\w+\\.*\\w+)@\n",
    "        (?P<domain>\\w+)\\.\n",
    "        (?P<tld>\\w+)\n",
    "        ''', re.VERBOSE)\n",
    "pattern"
   ]
  },
  {
   "cell_type": "code",
   "execution_count": null,
   "id": "91387b2e",
   "metadata": {},
   "outputs": [],
   "source": [
    "contacts = [re.search(pattern,email).groupdict() for email in emails]\n",
    "contacts"
   ]
  },
  {
   "cell_type": "code",
   "execution_count": null,
   "id": "1be08db5",
   "metadata": {},
   "outputs": [],
   "source": []
  },
  {
   "cell_type": "markdown",
   "id": "bf4f9562",
   "metadata": {},
   "source": [
    "# Recap"
   ]
  },
  {
   "cell_type": "markdown",
   "id": "784e7b1d",
   "metadata": {},
   "source": [
    "re functions\n",
    "- `re.findall()`:finds all substrings where the REGEX matches, returns a list\n",
    "- `re.search()`: scans through a string, looking for any location where the RE matches; returns match object\n",
    "    - `match.span()`\n",
    "    - `match.group()`\n",
    "    - `match.groups()`\n",
    "    - `match.groupdict()`\n",
    "- `re.sub()`:allows us to match a regex and substitute in a new substring for the match; returns string\n",
    "- `re.compile()`:prepare a regular expression for use ahead of time, returns expression\n",
    "\n",
    "flags\n",
    "- `re.IGNORECASE`: ignore case\n",
    "- `re.VERBOSE`: ignore whitespace\n",
    "\n",
    "\n",
    "\n",
    "Metacharacters\n",
    "- `\\w`: any letter or number\n",
    "- `\\W`: anything that is *not* a letter or number\n",
    "- `\\d`: any digit\n",
    "- `\\D`: anything that is *not* a digit\n",
    "- `\\s` : any whitespace\n",
    "-  `.` : anything\n",
    "\n",
    "\n",
    "Repeating\n",
    "\n",
    "- `{}`: custom number of repetitions\n",
    "    - `{x}`: exactly x repetitions\n",
    "    - `{x,}`: x or more\n",
    "    - `{x,y}`: between x and y repetitions\n",
    "\n",
    "- `*`: zero or more\n",
    "- `+`: one or more\n",
    "- `?`: optional / greedy\n",
    "\n",
    "\n",
    "Any/None\n",
    "\n",
    "- `[]`: will match anything inside of\n",
    "- `[^]`: will match anything NOT inside of\n",
    "- `[-]`: will match a range of values inside of\n",
    "\n",
    "\n",
    "Capture Groups\n",
    "\n",
    "- `()`: grab what's contained in parentheses \n",
    "- `?:`: to ignore a capture group also called shy\n",
    "- `?P`: to name a capture group\n",
    "\n",
    "\n",
    "Other\n",
    "- `\\`: escape character\n",
    "    \n",
    "\n",
    "\n"
   ]
  },
  {
   "cell_type": "code",
   "execution_count": null,
   "id": "d065958c",
   "metadata": {},
   "outputs": [],
   "source": []
  }
 ],
 "metadata": {
  "kernelspec": {
   "display_name": "Python 3 (ipykernel)",
   "language": "python",
   "name": "python3"
  },
  "language_info": {
   "codemirror_mode": {
    "name": "ipython",
    "version": 3
   },
   "file_extension": ".py",
   "mimetype": "text/x-python",
   "name": "python",
   "nbconvert_exporter": "python",
   "pygments_lexer": "ipython3",
   "version": "3.9.16"
  }
 },
 "nbformat": 4,
 "nbformat_minor": 5
}
