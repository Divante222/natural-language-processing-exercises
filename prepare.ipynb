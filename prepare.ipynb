{
 "cells": [
  {
   "cell_type": "code",
   "execution_count": 1,
   "id": "490bd84a",
   "metadata": {},
   "outputs": [],
   "source": [
    "import pandas as pd\n",
    "import numpy as np\n",
    "import unicodedata\n",
    "import re\n",
    "import nltk\n",
    "from nltk.corpus import stopwords\n",
    "import aquire"
   ]
  },
  {
   "cell_type": "code",
   "execution_count": 44,
   "id": "e1512ff8",
   "metadata": {},
   "outputs": [],
   "source": [
    "original = \"Paul Erdős and George Pólya were influential Hungarian mathematicians who contributed \\\n",
    "a lot to the field. Erdős's name contains the Hungarian letter 'ő' ('o' with double acute accent), \\\n",
    "but is often incorrectly written as Erdos or Erdös either by mistake or out of typographical necessity\""
   ]
  },
  {
   "cell_type": "markdown",
   "id": "5084ccfb",
   "metadata": {},
   "source": [
    "Define a function named basic_clean. It should take in a string and apply some basic text cleaning to it:"
   ]
  },
  {
   "cell_type": "code",
   "execution_count": 3,
   "id": "06401a00",
   "metadata": {},
   "outputs": [],
   "source": [
    "def basic_clean(the_string):\n",
    "    the_string = the_string.lower()\n",
    "    the_string = unicodedata.normalize('NFKD', the_string)\\\n",
    "    .encode('ascii', 'ignore')\\\n",
    "    .decode('utf-8')\n",
    "    the_string = re.sub(r\"[^a-z0-9\\s]\", '', the_string)\n",
    "    return the_string"
   ]
  },
  {
   "cell_type": "code",
   "execution_count": 4,
   "id": "3fe64dad",
   "metadata": {},
   "outputs": [
    {
     "name": "stdout",
     "output_type": "stream",
     "text": [
      "paul erdos and george polya were influential hungarian mathematicians who contributed a lot to the field erdoss name contains the hungarian letter o o with double acute accent but is often incorrectly written as erdos or erdos either by mistake or out of typographical necessity\n"
     ]
    }
   ],
   "source": [
    "the_string = basic_clean(original)\n",
    "print(the_string)"
   ]
  },
  {
   "cell_type": "markdown",
   "id": "231d5ca0",
   "metadata": {},
   "source": [
    "Define a function named tokenize. It should take in a string and tokenize all the words in the string."
   ]
  },
  {
   "cell_type": "code",
   "execution_count": 5,
   "id": "e2661f49",
   "metadata": {},
   "outputs": [],
   "source": [
    "def tokenize(the_string):\n",
    "    tokenize = nltk.tokenize.ToktokTokenizer()\n",
    "    the_string = tokenize.tokenize(the_string, return_str = True)\n",
    "    return the_string"
   ]
  },
  {
   "cell_type": "code",
   "execution_count": 6,
   "id": "e58eb535",
   "metadata": {},
   "outputs": [
    {
     "data": {
      "text/plain": [
       "\"Paul Erdős and George Pólya were influential Hungarian mathematicians who contributed a lot to the field. Erdős ' s name contains the Hungarian letter ' ő ' ( ' o ' with double acute accent ) , but is often incorrectly written as Erdos or Erdös either by mistake or out of typographical necessity\""
      ]
     },
     "execution_count": 6,
     "metadata": {},
     "output_type": "execute_result"
    }
   ],
   "source": [
    "tokenize(original)"
   ]
  },
  {
   "cell_type": "markdown",
   "id": "4f53a0d2",
   "metadata": {},
   "source": [
    "Define a function named stem. It should accept some text and return the text after applying stemming to all the words."
   ]
  },
  {
   "cell_type": "code",
   "execution_count": 7,
   "id": "e298fb4e",
   "metadata": {},
   "outputs": [],
   "source": [
    "def stem(the_string):\n",
    "    ps = nltk.porter.PorterStemmer()\n",
    "    return ps.stem(the_string)"
   ]
  },
  {
   "cell_type": "code",
   "execution_count": 8,
   "id": "8bac325a",
   "metadata": {},
   "outputs": [
    {
     "data": {
      "text/plain": [
       "\"paul erdős and george pólya were influential hungarian mathematicians who contributed a lot to the field. erdős's name contains the hungarian letter 'ő' ('o' with double acute accent), but is often incorrectly written as erdos or erdös either by mistake or out of typographical necess\""
      ]
     },
     "execution_count": 8,
     "metadata": {},
     "output_type": "execute_result"
    }
   ],
   "source": [
    "stem(original)"
   ]
  },
  {
   "cell_type": "markdown",
   "id": "63e3d9e9",
   "metadata": {},
   "source": [
    "Define a function named lemmatize. It should accept some text and return the text after applying lemmatization to each word."
   ]
  },
  {
   "cell_type": "code",
   "execution_count": 9,
   "id": "acc7afa3",
   "metadata": {},
   "outputs": [],
   "source": [
    "def lemmatize(the_string):\n",
    "    wnl = nltk.stem.WordNetLemmatizer()\n",
    "    return wnl.lemmatize(the_string)"
   ]
  },
  {
   "cell_type": "code",
   "execution_count": 10,
   "id": "a8076a23",
   "metadata": {},
   "outputs": [
    {
     "data": {
      "text/plain": [
       "\"Paul Erdős and George Pólya were influential Hungarian mathematicians who contributed a lot to the field. Erdős's name contains the Hungarian letter 'ő' ('o' with double acute accent), but is often incorrectly written as Erdos or Erdös either by mistake or out of typographical necessity\""
      ]
     },
     "execution_count": 10,
     "metadata": {},
     "output_type": "execute_result"
    }
   ],
   "source": [
    "lemmatize(original)"
   ]
  },
  {
   "cell_type": "markdown",
   "id": "8157db75",
   "metadata": {},
   "source": [
    "Define a function named remove_stopwords. It should accept some text and return the text after removing all the stopwords.\n",
    "This function should define two optional parameters, extra_words and exclude_words. These parameters should define any additional stop words to include, and any words that we don't want to remove.\n"
   ]
  },
  {
   "cell_type": "code",
   "execution_count": 61,
   "id": "c47a78d4",
   "metadata": {},
   "outputs": [],
   "source": [
    "def remove_stopwords(the_string, extra_words = [], exclude_words = []):\n",
    "    stopwords_ls = stopwords.words('english')\n",
    "    \n",
    "    stopwords_ls = set(stopwords_ls) - set(exclude_words)\n",
    "    stopwords_ls = list(stopwords_ls)\n",
    "    \n",
    "    if len(extra_words) > 1:\n",
    "        stopwords_ls.extend(extra_words)\n",
    "    elif len(extra_words) == 1:\n",
    "        stopwords_ls.append(extra_words[0])\n",
    "        \n",
    "        \n",
    "    words = the_string.split()\n",
    "    filtered = [word for word in words if word not in stopwords_ls]\n",
    "    return ' '.join(filtered)"
   ]
  },
  {
   "cell_type": "markdown",
   "id": "9e5c6d20",
   "metadata": {},
   "source": [
    "Use your data from the acquire to produce a dataframe of the news articles. Name the dataframe news_df."
   ]
  },
  {
   "cell_type": "markdown",
   "id": "93d2a548",
   "metadata": {},
   "source": [
    "Make another dataframe for the Codeup blog posts. Name the dataframe codeup_df."
   ]
  },
  {
   "cell_type": "code",
   "execution_count": 12,
   "id": "4b1d3f48",
   "metadata": {},
   "outputs": [
    {
     "data": {
      "text/html": [
       "<div>\n",
       "<style scoped>\n",
       "    .dataframe tbody tr th:only-of-type {\n",
       "        vertical-align: middle;\n",
       "    }\n",
       "\n",
       "    .dataframe tbody tr th {\n",
       "        vertical-align: top;\n",
       "    }\n",
       "\n",
       "    .dataframe thead th {\n",
       "        text-align: right;\n",
       "    }\n",
       "</style>\n",
       "<table border=\"1\" class=\"dataframe\">\n",
       "  <thead>\n",
       "    <tr style=\"text-align: right;\">\n",
       "      <th></th>\n",
       "      <th>original</th>\n",
       "      <th>title</th>\n",
       "    </tr>\n",
       "  </thead>\n",
       "  <tbody>\n",
       "    <tr>\n",
       "      <th>0</th>\n",
       "      <td>['May is traditionally known as Asian American...</td>\n",
       "      <td>Spotlight on APIDA Voices: Celebrating Heritag...</td>\n",
       "    </tr>\n",
       "    <tr>\n",
       "      <th>1</th>\n",
       "      <td>['Codeup is hosting a Women in Tech Panel in h...</td>\n",
       "      <td>Women in tech: Panelist Spotlight – Magdalena ...</td>\n",
       "    </tr>\n",
       "    <tr>\n",
       "      <th>2</th>\n",
       "      <td>['Codeup is hosting a Women in Tech Panel in h...</td>\n",
       "      <td>Women in tech: Panelist Spotlight – Rachel Rob...</td>\n",
       "    </tr>\n",
       "    <tr>\n",
       "      <th>3</th>\n",
       "      <td>['Codeup is hosting a Women in Tech Panel in h...</td>\n",
       "      <td>Women in Tech: Panelist Spotlight – Sarah Mellor</td>\n",
       "    </tr>\n",
       "    <tr>\n",
       "      <th>4</th>\n",
       "      <td>['Codeup is hosting a Women in Tech Panel in h...</td>\n",
       "      <td>Women in Tech: Panelist Spotlight – Madeleine ...</td>\n",
       "    </tr>\n",
       "  </tbody>\n",
       "</table>\n",
       "</div>"
      ],
      "text/plain": [
       "                                            original  \\\n",
       "0  ['May is traditionally known as Asian American...   \n",
       "1  ['Codeup is hosting a Women in Tech Panel in h...   \n",
       "2  ['Codeup is hosting a Women in Tech Panel in h...   \n",
       "3  ['Codeup is hosting a Women in Tech Panel in h...   \n",
       "4  ['Codeup is hosting a Women in Tech Panel in h...   \n",
       "\n",
       "                                               title  \n",
       "0  Spotlight on APIDA Voices: Celebrating Heritag...  \n",
       "1  Women in tech: Panelist Spotlight – Magdalena ...  \n",
       "2  Women in tech: Panelist Spotlight – Rachel Rob...  \n",
       "3   Women in Tech: Panelist Spotlight – Sarah Mellor  \n",
       "4  Women in Tech: Panelist Spotlight – Madeleine ...  "
      ]
     },
     "execution_count": 12,
     "metadata": {},
     "output_type": "execute_result"
    }
   ],
   "source": [
    "codeup_df = aquire.codeup_blog_posts()\n",
    "codeup_df = codeup_df.rename(columns = {'content': 'original'})\n",
    "codeup_df.head()"
   ]
  },
  {
   "cell_type": "code",
   "execution_count": 13,
   "id": "44cb1357",
   "metadata": {},
   "outputs": [],
   "source": [
    "cleaned_original = codeup_df['original'].apply(basic_clean)\n",
    "codeup_df['clean'] = cleaned_original\n",
    "tokenized_original = codeup_df['clean'].apply(tokenize)\n",
    "codeup_df['clean'] = tokenizedb_original"
   ]
  },
  {
   "cell_type": "code",
   "execution_count": 14,
   "id": "f269afec",
   "metadata": {},
   "outputs": [],
   "source": [
    "codeup_df['stemmed'] = codeup_df['clean'].apply(stem)"
   ]
  },
  {
   "cell_type": "code",
   "execution_count": 15,
   "id": "5bcbce42",
   "metadata": {},
   "outputs": [],
   "source": [
    "codeup_df['lemmatized'] = codeup_df['clean'].apply(lemmatize)"
   ]
  },
  {
   "cell_type": "code",
   "execution_count": 16,
   "id": "3924e105",
   "metadata": {},
   "outputs": [
    {
     "data": {
      "text/html": [
       "<div>\n",
       "<style scoped>\n",
       "    .dataframe tbody tr th:only-of-type {\n",
       "        vertical-align: middle;\n",
       "    }\n",
       "\n",
       "    .dataframe tbody tr th {\n",
       "        vertical-align: top;\n",
       "    }\n",
       "\n",
       "    .dataframe thead th {\n",
       "        text-align: right;\n",
       "    }\n",
       "</style>\n",
       "<table border=\"1\" class=\"dataframe\">\n",
       "  <thead>\n",
       "    <tr style=\"text-align: right;\">\n",
       "      <th></th>\n",
       "      <th>original</th>\n",
       "      <th>title</th>\n",
       "      <th>clean</th>\n",
       "      <th>stemmed</th>\n",
       "      <th>lemmatized</th>\n",
       "    </tr>\n",
       "  </thead>\n",
       "  <tbody>\n",
       "    <tr>\n",
       "      <th>0</th>\n",
       "      <td>['May is traditionally known as Asian American...</td>\n",
       "      <td>Spotlight on APIDA Voices: Celebrating Heritag...</td>\n",
       "      <td>may is traditionally known as asian american a...</td>\n",
       "      <td>may is traditionally known as asian american a...</td>\n",
       "      <td>may is traditionally known as asian american a...</td>\n",
       "    </tr>\n",
       "    <tr>\n",
       "      <th>1</th>\n",
       "      <td>['Codeup is hosting a Women in Tech Panel in h...</td>\n",
       "      <td>Women in tech: Panelist Spotlight – Magdalena ...</td>\n",
       "      <td>codeup is hosting a women in tech panel in hon...</td>\n",
       "      <td>codeup is hosting a women in tech panel in hon...</td>\n",
       "      <td>codeup is hosting a women in tech panel in hon...</td>\n",
       "    </tr>\n",
       "    <tr>\n",
       "      <th>2</th>\n",
       "      <td>['Codeup is hosting a Women in Tech Panel in h...</td>\n",
       "      <td>Women in tech: Panelist Spotlight – Rachel Rob...</td>\n",
       "      <td>codeup is hosting a women in tech panel in hon...</td>\n",
       "      <td>codeup is hosting a women in tech panel in hon...</td>\n",
       "      <td>codeup is hosting a women in tech panel in hon...</td>\n",
       "    </tr>\n",
       "    <tr>\n",
       "      <th>3</th>\n",
       "      <td>['Codeup is hosting a Women in Tech Panel in h...</td>\n",
       "      <td>Women in Tech: Panelist Spotlight – Sarah Mellor</td>\n",
       "      <td>codeup is hosting a women in tech panel in hon...</td>\n",
       "      <td>codeup is hosting a women in tech panel in hon...</td>\n",
       "      <td>codeup is hosting a women in tech panel in hon...</td>\n",
       "    </tr>\n",
       "    <tr>\n",
       "      <th>4</th>\n",
       "      <td>['Codeup is hosting a Women in Tech Panel in h...</td>\n",
       "      <td>Women in Tech: Panelist Spotlight – Madeleine ...</td>\n",
       "      <td>codeup is hosting a women in tech panel in hon...</td>\n",
       "      <td>codeup is hosting a women in tech panel in hon...</td>\n",
       "      <td>codeup is hosting a women in tech panel in hon...</td>\n",
       "    </tr>\n",
       "    <tr>\n",
       "      <th>5</th>\n",
       "      <td>['', 'Codeup is hosting a Black Excellence in ...</td>\n",
       "      <td>Black Excellence in Tech: Panelist Spotlight –...</td>\n",
       "      <td>codeup is hosting a black excellence in tech p...</td>\n",
       "      <td>codeup is hosting a black excellence in tech p...</td>\n",
       "      <td>codeup is hosting a black excellence in tech p...</td>\n",
       "    </tr>\n",
       "  </tbody>\n",
       "</table>\n",
       "</div>"
      ],
      "text/plain": [
       "                                            original  \\\n",
       "0  ['May is traditionally known as Asian American...   \n",
       "1  ['Codeup is hosting a Women in Tech Panel in h...   \n",
       "2  ['Codeup is hosting a Women in Tech Panel in h...   \n",
       "3  ['Codeup is hosting a Women in Tech Panel in h...   \n",
       "4  ['Codeup is hosting a Women in Tech Panel in h...   \n",
       "5  ['', 'Codeup is hosting a Black Excellence in ...   \n",
       "\n",
       "                                               title  \\\n",
       "0  Spotlight on APIDA Voices: Celebrating Heritag...   \n",
       "1  Women in tech: Panelist Spotlight – Magdalena ...   \n",
       "2  Women in tech: Panelist Spotlight – Rachel Rob...   \n",
       "3   Women in Tech: Panelist Spotlight – Sarah Mellor   \n",
       "4  Women in Tech: Panelist Spotlight – Madeleine ...   \n",
       "5  Black Excellence in Tech: Panelist Spotlight –...   \n",
       "\n",
       "                                               clean  \\\n",
       "0  may is traditionally known as asian american a...   \n",
       "1  codeup is hosting a women in tech panel in hon...   \n",
       "2  codeup is hosting a women in tech panel in hon...   \n",
       "3  codeup is hosting a women in tech panel in hon...   \n",
       "4  codeup is hosting a women in tech panel in hon...   \n",
       "5  codeup is hosting a black excellence in tech p...   \n",
       "\n",
       "                                             stemmed  \\\n",
       "0  may is traditionally known as asian american a...   \n",
       "1  codeup is hosting a women in tech panel in hon...   \n",
       "2  codeup is hosting a women in tech panel in hon...   \n",
       "3  codeup is hosting a women in tech panel in hon...   \n",
       "4  codeup is hosting a women in tech panel in hon...   \n",
       "5  codeup is hosting a black excellence in tech p...   \n",
       "\n",
       "                                          lemmatized  \n",
       "0  may is traditionally known as asian american a...  \n",
       "1  codeup is hosting a women in tech panel in hon...  \n",
       "2  codeup is hosting a women in tech panel in hon...  \n",
       "3  codeup is hosting a women in tech panel in hon...  \n",
       "4  codeup is hosting a women in tech panel in hon...  \n",
       "5  codeup is hosting a black excellence in tech p...  "
      ]
     },
     "execution_count": 16,
     "metadata": {},
     "output_type": "execute_result"
    }
   ],
   "source": [
    "codeup_df"
   ]
  },
  {
   "cell_type": "code",
   "execution_count": 17,
   "id": "fa97a7ea",
   "metadata": {},
   "outputs": [
    {
     "data": {
      "text/html": [
       "<div>\n",
       "<style scoped>\n",
       "    .dataframe tbody tr th:only-of-type {\n",
       "        vertical-align: middle;\n",
       "    }\n",
       "\n",
       "    .dataframe tbody tr th {\n",
       "        vertical-align: top;\n",
       "    }\n",
       "\n",
       "    .dataframe thead th {\n",
       "        text-align: right;\n",
       "    }\n",
       "</style>\n",
       "<table border=\"1\" class=\"dataframe\">\n",
       "  <thead>\n",
       "    <tr style=\"text-align: right;\">\n",
       "      <th></th>\n",
       "      <th>title</th>\n",
       "      <th>original</th>\n",
       "      <th>catagory</th>\n",
       "    </tr>\n",
       "  </thead>\n",
       "  <tbody>\n",
       "    <tr>\n",
       "      <th>0</th>\n",
       "      <td>Disrespect of Gods won't be tolerated: Union M...</td>\n",
       "      <td>Amid a controversy over the movie 'Adipurush',...</td>\n",
       "      <td>Entertainment</td>\n",
       "    </tr>\n",
       "    <tr>\n",
       "      <th>1</th>\n",
       "      <td>'Jalegi tere baap ki' dialogue revised in 'Adi...</td>\n",
       "      <td>'Adipurush' makers have revised Lord Hanuman's...</td>\n",
       "      <td>Entertainment</td>\n",
       "    </tr>\n",
       "    <tr>\n",
       "      <th>2</th>\n",
       "      <td>Was told I'll crack auditions if I wear short ...</td>\n",
       "      <td>'Bigg Boss 16' fame Archana Gautam revisited h...</td>\n",
       "      <td>Entertainment</td>\n",
       "    </tr>\n",
       "    <tr>\n",
       "      <th>3</th>\n",
       "      <td>'Adipurush' makers reduce ticket prices for 3D...</td>\n",
       "      <td>'Adipurush' makers on Wednesday announced that...</td>\n",
       "      <td>Entertainment</td>\n",
       "    </tr>\n",
       "    <tr>\n",
       "      <th>4</th>\n",
       "      <td>Asit Modi would pinch my cheeks, say inappropr...</td>\n",
       "      <td>The details of FIR filed against 'Taarak Mehta...</td>\n",
       "      <td>Entertainment</td>\n",
       "    </tr>\n",
       "  </tbody>\n",
       "</table>\n",
       "</div>"
      ],
      "text/plain": [
       "                                               title  \\\n",
       "0  Disrespect of Gods won't be tolerated: Union M...   \n",
       "1  'Jalegi tere baap ki' dialogue revised in 'Adi...   \n",
       "2  Was told I'll crack auditions if I wear short ...   \n",
       "3  'Adipurush' makers reduce ticket prices for 3D...   \n",
       "4  Asit Modi would pinch my cheeks, say inappropr...   \n",
       "\n",
       "                                            original       catagory  \n",
       "0  Amid a controversy over the movie 'Adipurush',...  Entertainment  \n",
       "1  'Adipurush' makers have revised Lord Hanuman's...  Entertainment  \n",
       "2  'Bigg Boss 16' fame Archana Gautam revisited h...  Entertainment  \n",
       "3  'Adipurush' makers on Wednesday announced that...  Entertainment  \n",
       "4  The details of FIR filed against 'Taarak Mehta...  Entertainment  "
      ]
     },
     "execution_count": 17,
     "metadata": {},
     "output_type": "execute_result"
    }
   ],
   "source": [
    "news_df = aquire.get_news_articles()\n",
    "news_df = news_df.rename(columns = {'content': 'original'})\n",
    "news_df.head()"
   ]
  },
  {
   "cell_type": "code",
   "execution_count": 21,
   "id": "e68a6c58",
   "metadata": {
    "scrolled": true
   },
   "outputs": [
    {
     "data": {
      "text/html": [
       "<div>\n",
       "<style scoped>\n",
       "    .dataframe tbody tr th:only-of-type {\n",
       "        vertical-align: middle;\n",
       "    }\n",
       "\n",
       "    .dataframe tbody tr th {\n",
       "        vertical-align: top;\n",
       "    }\n",
       "\n",
       "    .dataframe thead th {\n",
       "        text-align: right;\n",
       "    }\n",
       "</style>\n",
       "<table border=\"1\" class=\"dataframe\">\n",
       "  <thead>\n",
       "    <tr style=\"text-align: right;\">\n",
       "      <th></th>\n",
       "      <th>title</th>\n",
       "      <th>original</th>\n",
       "      <th>catagory</th>\n",
       "      <th>clean</th>\n",
       "      <th>stemmed</th>\n",
       "      <th>lemmatized</th>\n",
       "    </tr>\n",
       "  </thead>\n",
       "  <tbody>\n",
       "    <tr>\n",
       "      <th>0</th>\n",
       "      <td>Disrespect of Gods won't be tolerated: Union M...</td>\n",
       "      <td>Amid a controversy over the movie 'Adipurush',...</td>\n",
       "      <td>Entertainment</td>\n",
       "      <td>amid a controversy over the movie adipurush un...</td>\n",
       "      <td>amid a controversy over the movie adipurush un...</td>\n",
       "      <td>amid a controversy over the movie adipurush un...</td>\n",
       "    </tr>\n",
       "    <tr>\n",
       "      <th>1</th>\n",
       "      <td>'Jalegi tere baap ki' dialogue revised in 'Adi...</td>\n",
       "      <td>'Adipurush' makers have revised Lord Hanuman's...</td>\n",
       "      <td>Entertainment</td>\n",
       "      <td>adipurush makers have revised lord hanumans di...</td>\n",
       "      <td>adipurush makers have revised lord hanumans di...</td>\n",
       "      <td>adipurush makers have revised lord hanumans di...</td>\n",
       "    </tr>\n",
       "    <tr>\n",
       "      <th>2</th>\n",
       "      <td>Was told I'll crack auditions if I wear short ...</td>\n",
       "      <td>'Bigg Boss 16' fame Archana Gautam revisited h...</td>\n",
       "      <td>Entertainment</td>\n",
       "      <td>bigg boss 16 fame archana gautam revisited her...</td>\n",
       "      <td>bigg boss 16 fame archana gautam revisited her...</td>\n",
       "      <td>bigg boss 16 fame archana gautam revisited her...</td>\n",
       "    </tr>\n",
       "    <tr>\n",
       "      <th>3</th>\n",
       "      <td>'Adipurush' makers reduce ticket prices for 3D...</td>\n",
       "      <td>'Adipurush' makers on Wednesday announced that...</td>\n",
       "      <td>Entertainment</td>\n",
       "      <td>adipurush makers on wednesday announced that a...</td>\n",
       "      <td>adipurush makers on wednesday announced that a...</td>\n",
       "      <td>adipurush makers on wednesday announced that a...</td>\n",
       "    </tr>\n",
       "    <tr>\n",
       "      <th>4</th>\n",
       "      <td>Asit Modi would pinch my cheeks, say inappropr...</td>\n",
       "      <td>The details of FIR filed against 'Taarak Mehta...</td>\n",
       "      <td>Entertainment</td>\n",
       "      <td>the details of fir filed against taarak mehta ...</td>\n",
       "      <td>the details of fir filed against taarak mehta ...</td>\n",
       "      <td>the details of fir filed against taarak mehta ...</td>\n",
       "    </tr>\n",
       "  </tbody>\n",
       "</table>\n",
       "</div>"
      ],
      "text/plain": [
       "                                               title  \\\n",
       "0  Disrespect of Gods won't be tolerated: Union M...   \n",
       "1  'Jalegi tere baap ki' dialogue revised in 'Adi...   \n",
       "2  Was told I'll crack auditions if I wear short ...   \n",
       "3  'Adipurush' makers reduce ticket prices for 3D...   \n",
       "4  Asit Modi would pinch my cheeks, say inappropr...   \n",
       "\n",
       "                                            original       catagory  \\\n",
       "0  Amid a controversy over the movie 'Adipurush',...  Entertainment   \n",
       "1  'Adipurush' makers have revised Lord Hanuman's...  Entertainment   \n",
       "2  'Bigg Boss 16' fame Archana Gautam revisited h...  Entertainment   \n",
       "3  'Adipurush' makers on Wednesday announced that...  Entertainment   \n",
       "4  The details of FIR filed against 'Taarak Mehta...  Entertainment   \n",
       "\n",
       "                                               clean  \\\n",
       "0  amid a controversy over the movie adipurush un...   \n",
       "1  adipurush makers have revised lord hanumans di...   \n",
       "2  bigg boss 16 fame archana gautam revisited her...   \n",
       "3  adipurush makers on wednesday announced that a...   \n",
       "4  the details of fir filed against taarak mehta ...   \n",
       "\n",
       "                                             stemmed  \\\n",
       "0  amid a controversy over the movie adipurush un...   \n",
       "1  adipurush makers have revised lord hanumans di...   \n",
       "2  bigg boss 16 fame archana gautam revisited her...   \n",
       "3  adipurush makers on wednesday announced that a...   \n",
       "4  the details of fir filed against taarak mehta ...   \n",
       "\n",
       "                                          lemmatized  \n",
       "0  amid a controversy over the movie adipurush un...  \n",
       "1  adipurush makers have revised lord hanumans di...  \n",
       "2  bigg boss 16 fame archana gautam revisited her...  \n",
       "3  adipurush makers on wednesday announced that a...  \n",
       "4  the details of fir filed against taarak mehta ...  "
      ]
     },
     "execution_count": 21,
     "metadata": {},
     "output_type": "execute_result"
    }
   ],
   "source": [
    "cleaned_original = news_df['original'].apply(basic_clean)\n",
    "news_df['clean'] = cleaned_original\n",
    "tokenized_original = news_df['clean'].apply(tokenize)\n",
    "news_df['clean'] = tokenized_original\n",
    "news_df['stemmed'] = news_df['clean'].apply(stem)\n",
    "news_df['lemmatized'] = news_df['clean'].apply(lemmatize)\n",
    "news_df.head()"
   ]
  },
  {
   "cell_type": "markdown",
   "id": "8da696b0",
   "metadata": {},
   "source": [
    "Ask yourself:\n"
   ]
  },
  {
   "cell_type": "markdown",
   "id": "512e4775",
   "metadata": {},
   "source": [
    "If your corpus is 493KB, would you prefer to use stemmed or lemmatized text?"
   ]
  },
  {
   "cell_type": "markdown",
   "id": "f3114e0b",
   "metadata": {},
   "source": [
    "lametized"
   ]
  },
  {
   "cell_type": "markdown",
   "id": "c15a4c7a",
   "metadata": {},
   "source": [
    "If your corpus is 25MB, would you prefer to use stemmed or lemmatized text?"
   ]
  },
  {
   "cell_type": "markdown",
   "id": "3178c53a",
   "metadata": {},
   "source": [
    "lametized"
   ]
  },
  {
   "cell_type": "markdown",
   "id": "f1742e66",
   "metadata": {},
   "source": [
    "If your corpus is 200TB of text and you're charged by the megabyte for your hosted computational resources, would you prefer to use stemmed or lemmatized text?"
   ]
  },
  {
   "cell_type": "markdown",
   "id": "f0801169",
   "metadata": {},
   "source": [
    "stemmed"
   ]
  },
  {
   "cell_type": "code",
   "execution_count": 55,
   "id": "d1ab10b7",
   "metadata": {},
   "outputs": [],
   "source": [
    "original = \"Paul Erdős and George Pólya were influential Hungarian mathematicians who contributed \\\n",
    "a lot to the field. Erdős's name contains the Hungarian letter 'ő' ('o' with double acute accent), \\\n",
    "but is often incorrectly written as Erdos or Erdös either by mistake or out of typographical necessity\""
   ]
  },
  {
   "cell_type": "code",
   "execution_count": 57,
   "id": "0392e812",
   "metadata": {},
   "outputs": [
    {
     "data": {
      "text/plain": [
       "\"Paul Erdős and George Pólya were influential Hungarian mathematicians who contributed a lot to the field. Erdős's name contains the Hungarian letter 'ő' ('o' with double acute accent), but is often incorrectly written as Erdos or Erdös either by mistake or out of typographical necessity\""
      ]
     },
     "execution_count": 57,
     "metadata": {},
     "output_type": "execute_result"
    }
   ],
   "source": [
    "original"
   ]
  },
  {
   "cell_type": "code",
   "execution_count": 56,
   "id": "1b2eb40e",
   "metadata": {
    "scrolled": true
   },
   "outputs": [
    {
     "name": "stdout",
     "output_type": "stream",
     "text": [
      "<class 'list'>\n",
      "[]\n"
     ]
    },
    {
     "data": {
      "text/plain": [
       "\"Paul Erdős George Pólya influential Hungarian mathematicians contributed lot field. Erdős's name contains Hungarian letter 'ő' ('o' double acute accent), often incorrectly written Erdos Erdös either mistake typographical necessity\""
      ]
     },
     "execution_count": 56,
     "metadata": {},
     "output_type": "execute_result"
    }
   ],
   "source": [
    "remove_stopwords(original)"
   ]
  },
  {
   "cell_type": "code",
   "execution_count": 59,
   "id": "678b3bcf",
   "metadata": {},
   "outputs": [
    {
     "name": "stdout",
     "output_type": "stream",
     "text": [
      "<class 'list'>\n",
      "['out', 'to', 'were']\n"
     ]
    },
    {
     "data": {
      "text/plain": [
       "\"Paul Erdős George Pólya were influential Hungarian mathematicians contributed lot to field. Erdős's name contains Hungarian letter 'ő' ('o' double acute accent), often incorrectly written Erdos Erdös either mistake out typographical necessity\""
      ]
     },
     "execution_count": 59,
     "metadata": {},
     "output_type": "execute_result"
    }
   ],
   "source": [
    "remove_stopwords(original,  exclude_words = ['out', 'to', 'were'])"
   ]
  },
  {
   "cell_type": "code",
   "execution_count": 62,
   "id": "6758a311",
   "metadata": {},
   "outputs": [
    {
     "name": "stdout",
     "output_type": "stream",
     "text": [
      "<class 'list'>\n",
      "[]\n"
     ]
    },
    {
     "data": {
      "text/plain": [
       "\"Erdős Pólya influential Hungarian mathematicians contributed lot field. Erdős's name contains Hungarian letter 'ő' ('o' double acute accent), often incorrectly written Erdos Erdös either mistake typographical necessity\""
      ]
     },
     "execution_count": 62,
     "metadata": {},
     "output_type": "execute_result"
    }
   ],
   "source": [
    "remove_stopwords(original,  extra_words = ['George','Paul'])"
   ]
  },
  {
   "cell_type": "code",
   "execution_count": null,
   "id": "73eb3d1f",
   "metadata": {},
   "outputs": [],
   "source": []
  }
 ],
 "metadata": {
  "kernelspec": {
   "display_name": "Python 3 (ipykernel)",
   "language": "python",
   "name": "python3"
  },
  "language_info": {
   "codemirror_mode": {
    "name": "ipython",
    "version": 3
   },
   "file_extension": ".py",
   "mimetype": "text/x-python",
   "name": "python",
   "nbconvert_exporter": "python",
   "pygments_lexer": "ipython3",
   "version": "3.9.16"
  }
 },
 "nbformat": 4,
 "nbformat_minor": 5
}
